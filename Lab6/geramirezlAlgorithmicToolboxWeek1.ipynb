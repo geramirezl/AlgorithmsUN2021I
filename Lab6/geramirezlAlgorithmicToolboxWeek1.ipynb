{
  "nbformat": 4,
  "nbformat_minor": 0,
  "metadata": {
    "colab": {
      "name": "geramirezlAlgorithmicToolboxWeek1.ipynb",
      "provenance": [],
      "collapsed_sections": []
    },
    "kernelspec": {
      "name": "python3",
      "display_name": "Python 3"
    },
    "language_info": {
      "name": "python"
    }
  },
  "cells": [
    {
      "cell_type": "markdown",
      "metadata": {
        "id": "N1ok_-56OjB1"
      },
      "source": [
        "# I Solving the Sum of Two Digits Programming Challenge"
      ]
    },
    {
      "cell_type": "markdown",
      "metadata": {
        "id": "MMY7kmDSO0KM"
      },
      "source": [
        "## C++"
      ]
    },
    {
      "cell_type": "code",
      "metadata": {
        "colab": {
          "base_uri": "https://localhost:8080/"
        },
        "id": "2pGGf9BkPNIk",
        "outputId": "d8b72a42-8b6d-49b3-9b48-b4801e8b7934"
      },
      "source": [
        "%%writefile APlusB.cpp\n",
        "#include <iostream>\n",
        "\n",
        "int sum_of_two_digits(int first_digit, int second_digit) {\n",
        "    return first_digit + second_digit;\n",
        "}\n",
        "\n",
        "int main() {\n",
        "    int a = 0;\n",
        "    int b = 0;\n",
        "    std::cin >> a;\n",
        "    std::cin >> b;\n",
        "    std::cout << sum_of_two_digits(a, b);\n",
        "    return 0;\n",
        "}"
      ],
      "execution_count": null,
      "outputs": [
        {
          "output_type": "stream",
          "text": [
            "Writing APlusB.cpp\n"
          ],
          "name": "stdout"
        }
      ]
    },
    {
      "cell_type": "code",
      "metadata": {
        "colab": {
          "base_uri": "https://localhost:8080/"
        },
        "id": "0G3ZKOYAPXSU",
        "outputId": "093183fc-e12b-4a7e-894f-eb2a367e2541"
      },
      "source": [
        "!g++ APlusB.cpp -o APlusB\n",
        "!./APlusB"
      ],
      "execution_count": null,
      "outputs": [
        {
          "output_type": "stream",
          "text": [
            "4 11\n",
            "15"
          ],
          "name": "stdout"
        }
      ]
    },
    {
      "cell_type": "markdown",
      "metadata": {
        "id": "iNkG2HqfTl9c"
      },
      "source": [
        "### Test input output files"
      ]
    },
    {
      "cell_type": "code",
      "metadata": {
        "colab": {
          "base_uri": "https://localhost:8080/"
        },
        "id": "aTzU2efzMxly",
        "outputId": "3ab98be2-90a7-4c0a-cd4b-1889ab77cdba"
      },
      "source": [
        "%%writefile input1.txt\n",
        "4 8"
      ],
      "execution_count": null,
      "outputs": [
        {
          "output_type": "stream",
          "text": [
            "Writing input1.txt\n"
          ],
          "name": "stdout"
        }
      ]
    },
    {
      "cell_type": "markdown",
      "metadata": {
        "id": "pdkfsvs-T0Wr"
      },
      "source": [
        ""
      ]
    },
    {
      "cell_type": "code",
      "metadata": {
        "colab": {
          "base_uri": "https://localhost:8080/"
        },
        "id": "zBJ0Gc0NQRet",
        "outputId": "42c398a1-0ea9-4b9a-b552-f11f806284f0"
      },
      "source": [
        "%%writefile output1.txt\n",
        "12"
      ],
      "execution_count": null,
      "outputs": [
        {
          "output_type": "stream",
          "text": [
            "Writing output1.txt\n"
          ],
          "name": "stdout"
        }
      ]
    },
    {
      "cell_type": "code",
      "metadata": {
        "colab": {
          "base_uri": "https://localhost:8080/"
        },
        "id": "IjEcIx63PJAN",
        "outputId": "25652ae3-fb8c-490f-ea5e-0c9920a767ec"
      },
      "source": [
        "%%writefile input2.txt\n",
        "-5 9"
      ],
      "execution_count": null,
      "outputs": [
        {
          "output_type": "stream",
          "text": [
            "Writing input2.txt\n"
          ],
          "name": "stdout"
        }
      ]
    },
    {
      "cell_type": "code",
      "metadata": {
        "colab": {
          "base_uri": "https://localhost:8080/"
        },
        "id": "Up9gOrxURTmd",
        "outputId": "caf81da9-d710-4d5a-8590-d8b93e2c3331"
      },
      "source": [
        "%%writefile output2.txt\n",
        "4"
      ],
      "execution_count": null,
      "outputs": [
        {
          "output_type": "stream",
          "text": [
            "Writing output2.txt\n"
          ],
          "name": "stdout"
        }
      ]
    },
    {
      "cell_type": "code",
      "metadata": {
        "colab": {
          "base_uri": "https://localhost:8080/"
        },
        "id": "PST6G-s-Pwgc",
        "outputId": "15ee0d31-671a-4f00-b491-dff64d8f3821"
      },
      "source": [
        "!./APlusB < input1.txt"
      ],
      "execution_count": null,
      "outputs": [
        {
          "output_type": "stream",
          "text": [
            "12"
          ],
          "name": "stdout"
        }
      ]
    },
    {
      "cell_type": "code",
      "metadata": {
        "colab": {
          "base_uri": "https://localhost:8080/"
        },
        "id": "cKxZOjSlRfIN",
        "outputId": "993e042a-73b0-453d-ff98-d1bbba3bba6f"
      },
      "source": [
        "!./APlusB < input2.txt"
      ],
      "execution_count": null,
      "outputs": [
        {
          "output_type": "stream",
          "text": [
            "4"
          ],
          "name": "stdout"
        }
      ]
    },
    {
      "cell_type": "markdown",
      "metadata": {
        "id": "Qw2TQWCCUwqk"
      },
      "source": [
        "### Comparing files with grep\n",
        "\n",
        "https://askubuntu.com/questions/546796/comparing-two-text-files"
      ]
    },
    {
      "cell_type": "code",
      "metadata": {
        "id": "WVIaAmMKU4QM"
      },
      "source": [
        "!grep -xvFf output1.txt output1.txt "
      ],
      "execution_count": null,
      "outputs": []
    },
    {
      "cell_type": "code",
      "metadata": {
        "colab": {
          "base_uri": "https://localhost:8080/"
        },
        "id": "MQU8gPPjQuYO",
        "outputId": "66e8049c-31d2-4d24-bec6-479074bb241a"
      },
      "source": [
        "!grep -xvFf output1.txt output2.txt "
      ],
      "execution_count": null,
      "outputs": [
        {
          "output_type": "stream",
          "text": [
            "4\n"
          ],
          "name": "stdout"
        }
      ]
    },
    {
      "cell_type": "code",
      "metadata": {
        "colab": {
          "base_uri": "https://localhost:8080/"
        },
        "id": "jYL9OuYBTD_l",
        "outputId": "1534d0be-a2ef-48c6-aa40-3379a20bf78e"
      },
      "source": [
        "!grep -xvFf output2.txt output1.txt "
      ],
      "execution_count": null,
      "outputs": [
        {
          "output_type": "stream",
          "text": [
            "12\n"
          ],
          "name": "stdout"
        }
      ]
    },
    {
      "cell_type": "code",
      "metadata": {
        "id": "Jlja0Xm4TX9M"
      },
      "source": [
        "!./APlusB < input1.txt> ctest1.txt\n",
        "!grep -xvFf output1.txt ctest1.txt"
      ],
      "execution_count": null,
      "outputs": []
    },
    {
      "cell_type": "code",
      "metadata": {
        "id": "g9OIUZA_QLCQ"
      },
      "source": [
        "!./APlusB < input2.txt > ctest2.txt\n",
        "!grep -xvFf output2.txt ctest2.txt"
      ],
      "execution_count": null,
      "outputs": []
    },
    {
      "cell_type": "markdown",
      "metadata": {
        "id": "3BgOaDjUVJk6"
      },
      "source": [
        "## Python"
      ]
    },
    {
      "cell_type": "code",
      "metadata": {
        "colab": {
          "base_uri": "https://localhost:8080/"
        },
        "id": "DBvl-T0CTN_8",
        "outputId": "649549e8-a46f-43de-ea6c-9ed6d73ab1d0"
      },
      "source": [
        "%%writefile sum.py\n",
        "# python3\n",
        "\n",
        "def sum_of_two_digits(first_digit, second_digit):\n",
        "    return first_digit + second_digit\n",
        "\n",
        "if __name__ == '__main__':\n",
        "    a, b = map(int, input().split())\n",
        "    print(sum_of_two_digits(a, b))"
      ],
      "execution_count": null,
      "outputs": [
        {
          "output_type": "stream",
          "text": [
            "Writing sum.py\n"
          ],
          "name": "stdout"
        }
      ]
    },
    {
      "cell_type": "code",
      "metadata": {
        "colab": {
          "base_uri": "https://localhost:8080/"
        },
        "id": "QKoKM11_WGyF",
        "outputId": "6fbc2b66-9720-489b-88cd-ab346c9524cf"
      },
      "source": [
        "!python sum.py"
      ],
      "execution_count": null,
      "outputs": [
        {
          "output_type": "stream",
          "text": [
            "32 90\n",
            "122\n"
          ],
          "name": "stdout"
        }
      ]
    },
    {
      "cell_type": "code",
      "metadata": {
        "id": "cocFbPRTWrqt"
      },
      "source": [
        "!python sum.py  < input1.txt> ptest1.txt\n",
        "!grep -xvFf output1.txt ptest1.txt"
      ],
      "execution_count": null,
      "outputs": []
    },
    {
      "cell_type": "code",
      "metadata": {
        "id": "MorKTa-XXASN"
      },
      "source": [
        "!python sum.py  < input2.txt> ptest2.txt\n",
        "!grep -xvFf output2.txt ptest2.txt"
      ],
      "execution_count": null,
      "outputs": []
    },
    {
      "cell_type": "markdown",
      "metadata": {
        "id": "uvP-mOubW_5F"
      },
      "source": [
        "# II Solving The Maximum Pairwise Product Programming Challenge in C++"
      ]
    },
    {
      "cell_type": "markdown",
      "metadata": {
        "id": "C12yoFR6Xonl"
      },
      "source": [
        "## C++"
      ]
    },
    {
      "cell_type": "code",
      "metadata": {
        "colab": {
          "base_uri": "https://localhost:8080/"
        },
        "id": "YL4qJX3tXxdd",
        "outputId": "9ed54b17-ae31-43fc-e504-291079c2d6d6"
      },
      "source": [
        "%%writefile max_pairwise_product.cpp\n",
        "#include <iostream>\n",
        "#include <vector>\n",
        "#include <algorithm>\n",
        "\n",
        "int MaxPairwiseProduct(const std::vector<int>& numbers) {\n",
        "    int max_product = 0;\n",
        "    int n = numbers.size();\n",
        "\n",
        "    for (int first = 0; first < n; ++first) {\n",
        "        for (int second = first + 1; second < n; ++second) {\n",
        "            max_product = std::max(max_product,\n",
        "                numbers[first] * numbers[second]);\n",
        "        }\n",
        "    }\n",
        "\n",
        "    return max_product;\n",
        "}\n",
        "\n",
        "int main() {\n",
        "    int n;\n",
        "    std::cin >> n;\n",
        "    std::vector<int> numbers(n);\n",
        "    for (int i = 0; i < n; ++i) {\n",
        "        std::cin >> numbers[i];\n",
        "    }\n",
        "\n",
        "    std::cout << MaxPairwiseProduct(numbers) << \"\\n\";\n",
        "    return 0;\n",
        "}\n"
      ],
      "execution_count": null,
      "outputs": [
        {
          "output_type": "stream",
          "text": [
            "Writing max_pairwise_product.cpp\n"
          ],
          "name": "stdout"
        }
      ]
    },
    {
      "cell_type": "code",
      "metadata": {
        "colab": {
          "base_uri": "https://localhost:8080/"
        },
        "id": "KGxaEjvWX__O",
        "outputId": "c328e2d5-d761-4b06-c5e2-423748b9b602"
      },
      "source": [
        "!g++ max_pairwise_product.cpp -o max_pairwise_product\n",
        "!./max_pairwise_product"
      ],
      "execution_count": null,
      "outputs": [
        {
          "output_type": "stream",
          "text": [
            "6\n",
            "23 1 89 56 34 5\n",
            "4984\n"
          ],
          "name": "stdout"
        }
      ]
    },
    {
      "cell_type": "markdown",
      "metadata": {
        "id": "e7KhxHGNS3i0"
      },
      "source": [
        "### Test 1: Small numbers"
      ]
    },
    {
      "cell_type": "code",
      "metadata": {
        "colab": {
          "base_uri": "https://localhost:8080/"
        },
        "id": "e1mmTzBgShT-",
        "outputId": "65e06ca9-d18e-4582-a178-8369b63169c2"
      },
      "source": [
        "%%writefile input1.txt\n",
        "10\n",
        "1 2 3 4 5 6 7 8 9 10"
      ],
      "execution_count": null,
      "outputs": [
        {
          "output_type": "stream",
          "text": [
            "Overwriting input1.txt\n"
          ],
          "name": "stdout"
        }
      ]
    },
    {
      "cell_type": "code",
      "metadata": {
        "colab": {
          "base_uri": "https://localhost:8080/"
        },
        "id": "vy_uI0x7TCId",
        "outputId": "1f11389a-4817-4d81-d0bd-9f23118ca292"
      },
      "source": [
        "!./max_pairwise_product < input1.txt"
      ],
      "execution_count": null,
      "outputs": [
        {
          "output_type": "stream",
          "text": [
            "90\n"
          ],
          "name": "stdout"
        }
      ]
    },
    {
      "cell_type": "markdown",
      "metadata": {
        "id": "IeZ3kTjpYmR9"
      },
      "source": [
        "### Test 2: largest input numbers 200000 200000 in the input"
      ]
    },
    {
      "cell_type": "code",
      "metadata": {
        "colab": {
          "base_uri": "https://localhost:8080/"
        },
        "id": "LQNlZqaqYt7U",
        "outputId": "0f0f4b80-5119-464c-9cf8-6697dfae104f"
      },
      "source": [
        "%%writefile input2.txt\n",
        "6\n",
        "1 3 200000 9 200000 23"
      ],
      "execution_count": null,
      "outputs": [
        {
          "output_type": "stream",
          "text": [
            "Overwriting input2.txt\n"
          ],
          "name": "stdout"
        }
      ]
    },
    {
      "cell_type": "code",
      "metadata": {
        "colab": {
          "base_uri": "https://localhost:8080/"
        },
        "id": "2Wad2VZUZDxR",
        "outputId": "f6a473d2-1fb7-42c0-fa92-73d9b3e08c45"
      },
      "source": [
        "!./max_pairwise_product < input2.txt"
      ],
      "execution_count": null,
      "outputs": [
        {
          "output_type": "stream",
          "text": [
            "1345294336\n"
          ],
          "name": "stdout"
        }
      ]
    },
    {
      "cell_type": "markdown",
      "metadata": {
        "id": "H2SC0Qt5HCzz"
      },
      "source": [
        "Changing the variables to long long"
      ]
    },
    {
      "cell_type": "code",
      "metadata": {
        "colab": {
          "base_uri": "https://localhost:8080/"
        },
        "id": "MPcmsxiQZSfE",
        "outputId": "252db49b-e878-4a0b-f5c3-7fcc2d3e38d9"
      },
      "source": [
        "%%writefile max_pairwise_product_long.cpp\n",
        "#include <iostream>\n",
        "#include <vector>\n",
        "#include <algorithm>\n",
        "\n",
        "long long MaxPairwiseProduct(const std::vector<int>& numbers) {\n",
        "    long long max_product = 0LL;\n",
        "\t  long long aux_product = 0LL;\n",
        "    int n = numbers.size();\n",
        "\n",
        "    for (int first = 0; first < n; ++first) {\n",
        "        for (int second = first + 1; second < n; ++second) {\n",
        "\t\t\t       aux_product =  (long long) numbers[first] * numbers[second];\n",
        "            if ( max_product < aux_product)  {\n",
        "\t\t\t\t        max_product = aux_product;\n",
        "             }\n",
        "        }\n",
        "    }\n",
        "\n",
        "    return max_product;\n",
        "}\n",
        "\n",
        "int main() {\n",
        "    int n;\n",
        "    std::cin >> n;\n",
        "    std::vector<int> numbers(n);\n",
        "    for (int i = 0; i < n; ++i) {\n",
        "        std::cin >> numbers[i];\n",
        "    }\n",
        "\n",
        "    std::cout << MaxPairwiseProduct(numbers) << \"\\n\";\n",
        "    return 0;\n",
        "}\n"
      ],
      "execution_count": null,
      "outputs": [
        {
          "output_type": "stream",
          "text": [
            "Writing max_pairwise_product_long.cpp\n"
          ],
          "name": "stdout"
        }
      ]
    },
    {
      "cell_type": "code",
      "metadata": {
        "colab": {
          "base_uri": "https://localhost:8080/"
        },
        "id": "I5pCeOG1Zm7s",
        "outputId": "fb05387c-8722-4d1d-a349-c8cffff7b4c5"
      },
      "source": [
        "!g++ max_pairwise_product_long.cpp -o max_pairwise_product_long\n",
        "!./max_pairwise_product_long < input1.txt\n",
        "!./max_pairwise_product_long < input2.txt\n"
      ],
      "execution_count": null,
      "outputs": [
        {
          "output_type": "stream",
          "text": [
            "90\n",
            "40000000000\n"
          ],
          "name": "stdout"
        }
      ]
    },
    {
      "cell_type": "markdown",
      "metadata": {
        "id": "XPVHkHxH6_7s"
      },
      "source": [
        "### Test 3  stress tests 20  times  random n in [2, 20] "
      ]
    },
    {
      "cell_type": "markdown",
      "metadata": {
        "id": "uRjDL9AJK4GE"
      },
      "source": [
        "Write the input:\n"
      ]
    },
    {
      "cell_type": "code",
      "metadata": {
        "id": "PwqpBmYr69fu",
        "colab": {
          "base_uri": "https://localhost:8080/"
        },
        "outputId": "586cc803-f9ab-4625-f62b-e90d494a630d"
      },
      "source": [
        "%%writefile StressTestWr.cpp\n",
        "\n",
        "#include <iostream>\n",
        "#include <fstream>\n",
        "#include <cstdlib>\n",
        "\n",
        "using namespace std;\n",
        "\n",
        "int main() {\n",
        " \n",
        "  ofstream MyFile(\"inputStress.txt\");\n",
        "\n",
        "\n",
        " int number;\n",
        " int random;\n",
        "\n",
        " for (int i=1; i < 20+1; i++){\n",
        "     number=2+ rand()% (18+1);\n",
        "     MyFile << number<<\"\\n\";\n",
        "     for(int j=1;j<number+1;j++){\n",
        "      random=1 + rand() % (100000 - 1);\n",
        "      MyFile << random <<\" \";\n",
        "      }\n",
        "      MyFile<<\"\\n\";\n",
        " }\n",
        "  \n",
        " \n",
        "  MyFile.close();\n",
        "}"
      ],
      "execution_count": null,
      "outputs": [
        {
          "output_type": "stream",
          "text": [
            "Overwriting StressTestWr.cpp\n"
          ],
          "name": "stdout"
        }
      ]
    },
    {
      "cell_type": "code",
      "metadata": {
        "id": "yH6FcalBJW0U"
      },
      "source": [
        "!g++ StressTestWr.cpp -o StressTestWr\n",
        "!./StressTestWr"
      ],
      "execution_count": null,
      "outputs": []
    },
    {
      "cell_type": "markdown",
      "metadata": {
        "id": "WddsRKqfK84L"
      },
      "source": [
        "Using the naive solution with long long\n"
      ]
    },
    {
      "cell_type": "code",
      "metadata": {
        "colab": {
          "base_uri": "https://localhost:8080/"
        },
        "id": "oSywWrucJ31O",
        "outputId": "5274303c-dd46-4bed-eba5-2eceeb1e7ebc"
      },
      "source": [
        "%%writefile max_pairwise_product_long_StressTest.cpp\n",
        "#include <iostream>\n",
        "#include <vector>\n",
        "#include <algorithm>\n",
        "\n",
        "long long MaxPairwiseProduct(const std::vector<int>& numbers) {\n",
        "    long long max_product = 0LL;\n",
        "\t  long long aux_product = 0LL;\n",
        "    int n = numbers.size();\n",
        "\n",
        "    for (int first = 0; first < n; ++first) {\n",
        "        for (int second = first + 1; second < n; ++second) {\n",
        "\t\t\t       aux_product =  (long long) numbers[first] * numbers[second];\n",
        "            if ( max_product < aux_product)  {\n",
        "\t\t\t\t        max_product = aux_product;\n",
        "             }\n",
        "        }\n",
        "    }\n",
        "\n",
        "    return max_product;\n",
        "}\n",
        "\n",
        "int main() {\n",
        "    int n;\n",
        "    for(int s=1;s<20+1;s++){\n",
        "    std::cin >> n;\n",
        "    std::vector<int> numbers(n);\n",
        "    for (int i = 0; i < n; ++i) {\n",
        "        std::cin >> numbers[i];\n",
        "    }\n",
        "\n",
        "    std::cout << MaxPairwiseProduct(numbers) << \"\\n\";}\n",
        "    return 0;\n",
        "}\n"
      ],
      "execution_count": null,
      "outputs": [
        {
          "output_type": "stream",
          "text": [
            "Overwriting max_pairwise_product_long_StressTest.cpp\n"
          ],
          "name": "stdout"
        }
      ]
    },
    {
      "cell_type": "code",
      "metadata": {
        "colab": {
          "base_uri": "https://localhost:8080/"
        },
        "id": "_f2vp415KVM1",
        "outputId": "e4401118-3d38-4ae7-d5e3-7a9bb0759c2a"
      },
      "source": [
        "!g++ max_pairwise_product_long_StressTest.cpp -o max_pairwise_product_long_StressTest\n",
        "!./max_pairwise_product_long_StressTest < inputStress.txt"
      ],
      "execution_count": null,
      "outputs": [
        {
          "output_type": "stream",
          "text": [
            "3642211002\n",
            "7128119150\n",
            "9113410790\n",
            "9343859618\n",
            "8884259549\n",
            "1838756736\n",
            "9941374800\n",
            "6975914880\n",
            "1833433086\n",
            "4215247776\n",
            "6828158290\n",
            "6629084944\n",
            "9104014296\n",
            "4740015723\n",
            "7739814292\n",
            "9629203782\n",
            "7398480256\n",
            "5812280121\n",
            "6446352898\n",
            "6458462445\n"
          ],
          "name": "stdout"
        }
      ]
    },
    {
      "cell_type": "markdown",
      "metadata": {
        "id": "9z9yr5QkeyJF"
      },
      "source": [
        "### Test 4  time test  measure the execution time running with the the largest worst case file (200000 increasing numbers, 200000 and 200000 the end) "
      ]
    },
    {
      "cell_type": "code",
      "metadata": {
        "id": "oLiMjbAIfPlX",
        "colab": {
          "base_uri": "https://localhost:8080/"
        },
        "outputId": "c01efd1a-ca50-48cb-b660-3c8f894afa4f"
      },
      "source": [
        "%%writefile Test2Write.cpp\n",
        "\n",
        "#include <iostream>\n",
        "#include <fstream>\n",
        "#include <cstdlib>\n",
        "\n",
        "using namespace std;\n",
        "\n",
        "int main() {\n",
        "  // Create and open a text file\n",
        "  ofstream MyFile(\"input3.txt\");\n",
        "\n",
        " MyFile << 200000 <<\"\\n\";  // n \n",
        " for (int i=1; i < 200001; i++){\n",
        "     MyFile << i <<\" \";\n",
        " }\n",
        "  \n",
        "  // Close the file\n",
        "  MyFile.close();\n",
        "}"
      ],
      "execution_count": null,
      "outputs": [
        {
          "output_type": "stream",
          "text": [
            "Writing Test2Write.cpp\n"
          ],
          "name": "stdout"
        }
      ]
    },
    {
      "cell_type": "code",
      "metadata": {
        "id": "EH25TkOkZfD9"
      },
      "source": [
        "!g++ Test2Write.cpp -o Test2Write\n",
        "!./Test2Write"
      ],
      "execution_count": null,
      "outputs": []
    },
    {
      "cell_type": "markdown",
      "metadata": {
        "id": "JB6f03qO-lj9"
      },
      "source": [
        "Measure time\n",
        "\n",
        "https://askubuntu.com/questions/53444/how-can-i-measure-the-execution-time-of-a-terminal-process"
      ]
    },
    {
      "cell_type": "code",
      "metadata": {
        "colab": {
          "base_uri": "https://localhost:8080/"
        },
        "id": "6p2QLEr576zk",
        "outputId": "3c3ee99e-fe31-4fa1-96bb-e11c4e6431cd"
      },
      "source": [
        "!g++ max_pairwise_product_long.cpp -o max_pairwise_product_long\n",
        "!time ./max_pairwise_product_long < input3.txt"
      ],
      "execution_count": null,
      "outputs": [
        {
          "output_type": "stream",
          "text": [
            "39999800000\n",
            "\n",
            "real\t2m7.215s\n",
            "user\t2m6.997s\n",
            "sys\t0m0.025s\n"
          ],
          "name": "stdout"
        }
      ]
    },
    {
      "cell_type": "markdown",
      "metadata": {
        "id": "AmZeB2wYjxy5"
      },
      "source": [
        "##### Calculate  the number of instructions executed by the algorithm as a function of n, add in each line a comment with the number of instructions that are executed in that line \n",
        "\n",
        "```cpp\n",
        " int main() {                         //N inst exec by line executed  \n",
        "   \n",
        "    int n;                            //1                      \n",
        "    std::cin >> n;                    //1\n",
        "                                              \n",
        "    std::vector<int> numbers(n);      //n    init vector\n",
        "    .\n",
        "    .\n",
        " }\n",
        "\n",
        "```"
      ]
    },
    {
      "cell_type": "code",
      "metadata": {
        "colab": {
          "base_uri": "https://localhost:8080/"
        },
        "id": "djGX3FL13g9b",
        "outputId": "8ddff4ba-d2d5-4e9e-a1d1-265502973ffb"
      },
      "source": [
        "%%writefile test_init_vectors.cpp\n",
        "#include <iostream>\n",
        "#include <vector>\n",
        "#include <algorithm>\n",
        "int main() {                                                               \n",
        "    int n = 10;                                                                                                                            //1\n",
        "    std::vector<int> numbers(n);                                            \n",
        "    for (int i = 0; i < n; ++i) {                                           \n",
        "        std::cout << numbers[i];                                             \n",
        "    }\n",
        "\n",
        "    std::cout << \"\\n\";                       \n",
        "    return 0;                                                              \n",
        "}  "
      ],
      "execution_count": null,
      "outputs": [
        {
          "output_type": "stream",
          "text": [
            "Writing test_init_vectors.cpp\n"
          ],
          "name": "stdout"
        }
      ]
    },
    {
      "cell_type": "code",
      "metadata": {
        "colab": {
          "base_uri": "https://localhost:8080/"
        },
        "id": "44gZcuE237-1",
        "outputId": "64782980-a53a-4d1e-a199-fcedd166bb1c"
      },
      "source": [
        "!g++ test_init_vectors.cpp -o test_init_vectors\n",
        "!./test_init_vectors"
      ],
      "execution_count": null,
      "outputs": [
        {
          "output_type": "stream",
          "text": [
            "0000000000\n"
          ],
          "name": "stdout"
        }
      ]
    },
    {
      "cell_type": "code",
      "metadata": {
        "colab": {
          "base_uri": "https://localhost:8080/"
        },
        "id": "uG6Mv-Pwlkii",
        "outputId": "b4d891a0-7ee4-48dd-f719-dcea8196242d"
      },
      "source": [
        "%%writefile max_pairwise_product_long.cpp\n",
        "#include <iostream>\n",
        "#include <vector>\n",
        "#include <algorithm>\n",
        "\n",
        "long long MaxPairwiseProduct(const std::vector<int>& numbers) {              //N inst exec by line executed \n",
        "    long long max_product = 0LL;                                             //1                                          \n",
        "\t  long long aux_product = 0LL;                                             //1 \n",
        "    int n = numbers.size();                                                  //1 \n",
        "                                                                             \n",
        "    for (int first = 0; first < n; ++first) {                                //1+2n  \n",
        "        for (int second = first + 1; second < n; ++second) {                 //n + (n-1)n \n",
        "\t\t\t       aux_product =  (long long) numbers[first] * numbers[second];    //(n-1)n/2 \n",
        "            if (max_product < aux_product)  {                                //(n-1)n/2 \n",
        "\t\t\t\t        max_product = aux_product;                                   //[0, (n-1)n/2] \n",
        "             }\n",
        "        }\n",
        "    }\n",
        "                                                                             // -------------- \n",
        "    return max_product;                                                      // 4 + 3n + [2(n-1)n, 2.5 (n-1)n] \n",
        "}\n",
        "\n",
        "int main() {                                              //N inst exec by line executed \n",
        "    int n;                                                //1  \n",
        "    std::cin >> n;                                        //1\n",
        "    std::vector<int> numbers(n);                          //n\n",
        "    for (int i = 0; i < n; ++i) {                         //1 + 2n\n",
        "        std::cin >> numbers[i];                           //n\n",
        "    }\n",
        "\n",
        "    std::cout << MaxPairwiseProduct(numbers) << \"\\n\";     //1 + 1  + 4 + 3n + [2(n-1)n, 2.5 (n-1)n]\n",
        "    return 0;                                             // -------------- \n",
        "}                                                         // 9 + 7n + [2(n-1)n, 2.5 (n-1)n]\n"
      ],
      "execution_count": null,
      "outputs": [
        {
          "output_type": "stream",
          "text": [
            "Overwriting max_pairwise_product_long.cpp\n"
          ],
          "name": "stdout"
        }
      ]
    },
    {
      "cell_type": "markdown",
      "metadata": {
        "id": "0vTsUg8OwcHs"
      },
      "source": [
        "Count executed intructions in code and verify with inputs 1, 2 and 3"
      ]
    },
    {
      "cell_type": "code",
      "metadata": {
        "colab": {
          "base_uri": "https://localhost:8080/"
        },
        "id": "CuRKkqQc137V",
        "outputId": "c24a7894-3924-47e3-d73a-c54476cef340"
      },
      "source": [
        "%%writefile max_pairwise_product_long_execints.cpp\n",
        "#include <iostream>\n",
        "#include <vector>\n",
        "#include <algorithm>\n",
        "\n",
        "long long MaxPairwiseProduct(const std::vector<int>& numbers, long long &execints) {              //N inst exec by line executed \n",
        "    \n",
        "    long long m = 0LL;                                                       //1\n",
        "    \n",
        "    long long max_product = 0LL;                                             //1\n",
        "    execints++;\n",
        "\n",
        "\t  long long aux_product = 0LL;                                             //1\n",
        "    execints++;\n",
        "\n",
        "    int n = numbers.size();                                                  //1 \n",
        "    execints++;\n",
        "\n",
        "    execints++;                                                                         \n",
        "    for (int first = 0; first < n; ++first) {                                //1+2n  \n",
        "        execints += 2;\n",
        "\n",
        "        long long m = 0LL;\n",
        "\n",
        "        execints++;                                    \n",
        "        for (int second = first + 1; second < n; ++second) {                 //n+ (n-1)n \n",
        "            execints += 2;                                                \n",
        "\n",
        "\t\t\t      aux_product =  (long long) numbers[first] * numbers[second];    //(n-1)n/2 \n",
        "            execints++; \n",
        "\n",
        "            execints++; \n",
        "            if ( max_product < aux_product)  {                               //(n-1)n/2 \n",
        "                       \n",
        "\t\t\t\t        max_product = aux_product;                                   //[0, (n-1)n/2] \n",
        "                execints++; \n",
        "                m++;\n",
        "             }\n",
        "        }\n",
        "        if ( (first <= 10) || (n- first <= 10)) std::cout << m << \"\\n\";\n",
        "    }\n",
        "                                                                            // -------------- \n",
        "    return max_product;                                                     // 4 + 3n + [2(n-1)n, 2.5 (n-1)n] \n",
        "}\n",
        "\n",
        "int main() {                                                 //N inst exec by line executed \n",
        "    long long execints =0LL;\n",
        "\n",
        "    int n;                                                   //1\n",
        "    execints++;                                                              \n",
        "    \n",
        "    std::cin >> n;                                           //1\n",
        "    execints++;\n",
        "\n",
        "    std::vector<int> numbers(n);                             //n\n",
        "    execints += n;\n",
        "    \n",
        "    execints++;\n",
        "    for (int i = 0; i < n; ++i) {                            //1 + 2n\n",
        "        execints += 2;\n",
        "\n",
        "        std::cin >> numbers[i];\n",
        "        execints++;                                          //n\n",
        "    }\n",
        "    \n",
        "    //std::cout << MaxPairwiseProduct(numbers) << \"\\n\";      //1 + 1  + 4 + 3n + [2(n-1)n, 2.5 (n-1)n]\n",
        "\n",
        "    execints++;\n",
        "    int M = MaxPairwiseProduct(numbers,execints);\n",
        "\n",
        "    execints++;\n",
        "    std::cout << \"Total:\"<< execints << \"\\n\";                       \n",
        "    return 0;                                                // -------------- \n",
        "}                                                            // 9 + 7n + [2(n-1)n, 2.5 (n-1)n]"
      ],
      "execution_count": null,
      "outputs": [
        {
          "output_type": "stream",
          "text": [
            "Overwriting max_pairwise_product_long_execints.cpp\n"
          ],
          "name": "stdout"
        }
      ]
    },
    {
      "cell_type": "code",
      "metadata": {
        "colab": {
          "base_uri": "https://localhost:8080/"
        },
        "id": "Kuvm1C05ly2a",
        "outputId": "a9e64a04-820d-4fe2-98c1-03d6ea511bb3"
      },
      "source": [
        "!g++ max_pairwise_product_long_execints.cpp -o max_pairwise_product_long_execints\n",
        "!./max_pairwise_product_long_execints < input1.txt\n",
        "!./max_pairwise_product_long_execints < input2.txt\n",
        "!./max_pairwise_product_long_execints < input3.txt"
      ],
      "execution_count": null,
      "outputs": [
        {
          "output_type": "stream",
          "text": [
            "9\n",
            "5\n",
            "4\n",
            "3\n",
            "2\n",
            "2\n",
            "2\n",
            "2\n",
            "1\n",
            "0\n",
            "Total:289\n",
            "2\n",
            "1\n",
            "2\n",
            "0\n",
            "0\n",
            "0\n",
            "Total:116\n",
            "199999\n",
            "100000\n",
            "66667\n",
            "50000\n",
            "40000\n",
            "33334\n",
            "28572\n",
            "25000\n",
            "22223\n",
            "20000\n",
            "18182\n",
            "2\n",
            "2\n",
            "2\n",
            "2\n",
            "2\n",
            "2\n",
            "2\n",
            "2\n",
            "1\n",
            "0\n",
            "Total:80003672077\n"
          ],
          "name": "stdout"
        }
      ]
    },
    {
      "cell_type": "markdown",
      "metadata": {
        "id": "L_uaamxeAHK7"
      },
      "source": [
        "The number of instructions executed by the algooirithm with a list of size $n$ is  \n",
        "\n",
        "$$T = 9 + 7n + [2(n-1)n, 2.5 (n-1)n]$$\n",
        "\n",
        "It depends on the size of the lists and  the order of the list.\n",
        "\n",
        "For the input1.txt \n",
        "```\n",
        "10\n",
        "1 2 3 4 5 6 7 8 9 10\n",
        "```\n",
        "$$T = 9 + 7(10) + 2(9)(10) +  9 + 5 + 4 + 3 + 2 + 2 + 2 + 2 + 1 + 0  = 289 $$\n",
        "\n",
        "For the input2.txt \n",
        "```\n",
        "6\n",
        "1 3 200000 9 200000 23\n",
        "```\n",
        "$$T = 9 + 7(6) + 2(5)(6)  +  2 + 1 + 2 + 0 + 0 + 0 = 116 $$\n",
        "\n",
        "\n",
        "For the input3.txt that is the worst case (n=200000 and list in incresing order)\n",
        "\n",
        "```\n",
        "200000\n",
        "1 2 3 4 5 6 7 8 9 10 ... 199998 199999 200000\n",
        "```\n",
        "\n",
        "$$\n",
        "\\begin{array}{ll}\n",
        "T &= 9 + 7(200000) + (2)(199999)(200000)  + (199999 +\n",
        "100000 + 66667 +50000 \\cdots 2 + 2 + 1)\\\\\n",
        "&= 80003672077  \\\\\n",
        "  &< 9 + 7(200000) + (2.5)(199999)(200000) \\\\\n",
        "  & = 100000900009\n",
        "\\end{array}\n",
        "  $$"
      ]
    },
    {
      "cell_type": "markdown",
      "metadata": {
        "id": "NXW7QkoBL6xH"
      },
      "source": [
        "Calculate estimated time by instruction and number of instructions by second"
      ]
    },
    {
      "cell_type": "code",
      "metadata": {
        "colab": {
          "base_uri": "https://localhost:8080/"
        },
        "id": "pKqB3i7dIxnc",
        "outputId": "ae72eba0-3af7-463b-bc69-e77b02220b13"
      },
      "source": [
        "# Estimated time by instruction\n",
        "\n",
        "128/80003672077 \n"
      ],
      "execution_count": null,
      "outputs": [
        {
          "output_type": "execute_result",
          "data": {
            "text/plain": [
              "1.5999265618308827e-09"
            ]
          },
          "metadata": {
            "tags": []
          },
          "execution_count": 64
        }
      ]
    },
    {
      "cell_type": "code",
      "metadata": {
        "colab": {
          "base_uri": "https://localhost:8080/"
        },
        "id": "18N1ouqeMhE1",
        "outputId": "f8300b8b-13f6-49e8-f074-5093eb4a303b"
      },
      "source": [
        "# Estimated number of instructions by second\n",
        "\n",
        "1/(128/80003672077) "
      ],
      "execution_count": null,
      "outputs": [
        {
          "output_type": "execute_result",
          "data": {
            "text/plain": [
              "625028688.1015625"
            ]
          },
          "metadata": {
            "tags": []
          },
          "execution_count": 65
        }
      ]
    },
    {
      "cell_type": "markdown",
      "metadata": {
        "id": "CQufozXLNJwO"
      },
      "source": [
        "### Efficient solution"
      ]
    },
    {
      "cell_type": "markdown",
      "metadata": {
        "id": "nLcKBwbU0QsE"
      },
      "source": [
        "Add in each line a coment with the number of intstrcution that are executed in that line"
      ]
    },
    {
      "cell_type": "code",
      "metadata": {
        "id": "knls5Fh3NSt_",
        "colab": {
          "base_uri": "https://localhost:8080/"
        },
        "outputId": "db69988a-5287-48e9-a8c5-ead662067d04"
      },
      "source": [
        "%%writefile efficient.cpp \n",
        "#include <iostream>\n",
        "#include <vector>\n",
        "#include <algorithm>\n",
        "\n",
        "\n",
        "long long MaxPairwiseProductFast(const std::vector<int>& numbers) {\n",
        "    long long max_product = 0;                                             //1\n",
        "    int n = numbers.size();                                                //1\n",
        "    \n",
        "    int max_index1=-1;                                                    //1\n",
        "    int max_index2=-1;                                                    //1\n",
        "\n",
        "    for (int first = 0; first < n; ++first) {                            //1+2n  \n",
        "        if((max_index1==-1)||(numbers[first]>numbers[max_index1])){       // n\n",
        "        \tmax_index1=first;                                               //[0,n]\n",
        "\t\t}\n",
        "    }\n",
        "    \n",
        "    \n",
        "    for (int second=0; second<n;++second){                                                   //1+2n\n",
        "    \tif((second!=max_index1)&&((max_index2==-1)||(numbers[second]>numbers[max_index2]))){   // n\n",
        "        \tmax_index2=second;                                                                //[0,n]\n",
        "\t\t}\n",
        "\t}\n",
        "    \n",
        "    max_product=((long long)(numbers[max_index1]))* ((long long) numbers[max_index2]);      //1\n",
        "\n",
        "    return max_product;                                                                     //7+6n + [0,2n]\n",
        "}\n",
        "\n",
        "\n",
        "\n",
        "int main() {\n",
        "\t\n",
        "    int n;                                                   //1\n",
        "    std::cin >> n;                                           //1\n",
        "    std::vector<int> numbers(n);                            //n\n",
        "    for(int i=0;i<n; ++i){                                  //1+2n\n",
        "    \tstd::cin>> numbers[i];                                //n\n",
        "\t}\n",
        "\tlong long result=MaxPairwiseProductFast(numbers);       //1+1+7+6n + [0,2n]                                 \n",
        "\tstd::cout<<result<<\"\\n\";\n",
        "    return 0;                                             // 12+10n+[0,2n]\n",
        "}\n"
      ],
      "execution_count": null,
      "outputs": [
        {
          "output_type": "stream",
          "text": [
            "Writing efficient.cpp\n"
          ],
          "name": "stdout"
        }
      ]
    },
    {
      "cell_type": "markdown",
      "metadata": {
        "id": "-JCijbWxNSii"
      },
      "source": [
        "Test with inputs 1 and 2\n",
        "\n"
      ]
    },
    {
      "cell_type": "code",
      "metadata": {
        "id": "TrTGAfqlNVXT",
        "colab": {
          "base_uri": "https://localhost:8080/"
        },
        "outputId": "7f671be7-b6fd-43e9-c27a-c1c5a89356a0"
      },
      "source": [
        "!g++ efficient.cpp -o efficient\n",
        "!./efficient < input1.txt"
      ],
      "execution_count": null,
      "outputs": [
        {
          "output_type": "stream",
          "text": [
            "90\n"
          ],
          "name": "stdout"
        }
      ]
    },
    {
      "cell_type": "code",
      "metadata": {
        "colab": {
          "base_uri": "https://localhost:8080/"
        },
        "id": "7WpJDu4sTNME",
        "outputId": "93db89dd-5916-4436-9b1d-0a86b4fc5b2a"
      },
      "source": [
        "!g++ efficient.cpp -o efficient\n",
        "!./efficient < input2.txt"
      ],
      "execution_count": null,
      "outputs": [
        {
          "output_type": "stream",
          "text": [
            "40000000000\n"
          ],
          "name": "stdout"
        }
      ]
    },
    {
      "cell_type": "markdown",
      "metadata": {
        "id": "PRX51wADNR8b"
      },
      "source": [
        "Test and time it with input 3"
      ]
    },
    {
      "cell_type": "code",
      "metadata": {
        "id": "v4z7-Is_NRt7",
        "colab": {
          "base_uri": "https://localhost:8080/"
        },
        "outputId": "b38b8e2f-247f-4a42-cebf-a069b626c143"
      },
      "source": [
        "!time ./efficient< input3.txt"
      ],
      "execution_count": null,
      "outputs": [
        {
          "output_type": "stream",
          "text": [
            "39999800000\n",
            "\n",
            "real\t0m0.063s\n",
            "user\t0m0.057s\n",
            "sys\t0m0.004s\n"
          ],
          "name": "stdout"
        }
      ]
    },
    {
      "cell_type": "markdown",
      "metadata": {
        "id": "rpdfs0_TNZJf"
      },
      "source": [
        "20 stress tests"
      ]
    },
    {
      "cell_type": "code",
      "metadata": {
        "id": "Lu4tYcKzNcTT",
        "colab": {
          "base_uri": "https://localhost:8080/"
        },
        "outputId": "5c465642-849e-4936-c133-dc3722b7a53d"
      },
      "source": [
        "%%writefile efficientStress.cpp \n",
        "#include <iostream>\n",
        "#include <vector>\n",
        "#include <algorithm>\n",
        "\n",
        "\n",
        "long long MaxPairwiseProductFast(const std::vector<int>& numbers) {\n",
        "    long long max_product = 0;\n",
        "    int n = numbers.size();\n",
        "    \n",
        "    int max_index1=-1;\n",
        "    int max_index2=-1;\n",
        "\n",
        "    for (int first = 0; first < n; ++first) {\n",
        "        if((max_index1==-1)||(numbers[first]>numbers[max_index1])){\n",
        "        \tmax_index1=first;\n",
        "\t\t}\n",
        "    }\n",
        "    \n",
        "    \n",
        "    for(int second=0; second<n;++second){\n",
        "    \tif((second!=max_index1)&&((max_index2==-1)||(numbers[second]>numbers[max_index2]))){\n",
        "        \tmax_index2=second;\n",
        "\t\t}\n",
        "\t}\n",
        "    \n",
        "    max_product=((long long)(numbers[max_index1]))* ((long long) numbers[max_index2]);\n",
        "\n",
        "    return max_product;\n",
        "}\n",
        "\n",
        "\n",
        "\n",
        "int main() {\n",
        "\n",
        "\t\n",
        "    int n;\n",
        "  for(int s=1;s<21;s++){\n",
        "    std::cin >> n;\n",
        "    std::vector<int> numbers(n);\n",
        "    for(int i=0;i<n; ++i){\n",
        "    \tstd::cin>> numbers[i];\n",
        "\t  }\n",
        "    long long result=MaxPairwiseProductFast(numbers);\n",
        "    std::cout<<result<<\"\\n\";\n",
        "  }\n",
        "\n",
        "    return 0;\n",
        "}\n"
      ],
      "execution_count": null,
      "outputs": [
        {
          "output_type": "stream",
          "text": [
            "Writing efficientStress.cpp\n"
          ],
          "name": "stdout"
        }
      ]
    },
    {
      "cell_type": "code",
      "metadata": {
        "colab": {
          "base_uri": "https://localhost:8080/"
        },
        "id": "aChhwZvJUMRv",
        "outputId": "081fe8af-960d-4b76-b0fa-43d3b3c21743"
      },
      "source": [
        "!g++ efficientStress.cpp -o efficientStress\n",
        "!./efficientStress < inputStress.txt"
      ],
      "execution_count": null,
      "outputs": [
        {
          "output_type": "stream",
          "text": [
            "3642211002\n",
            "7128119150\n",
            "9113410790\n",
            "9343859618\n",
            "8884259549\n",
            "1838756736\n",
            "9941374800\n",
            "6975914880\n",
            "1833433086\n",
            "4215247776\n",
            "6828158290\n",
            "6629084944\n",
            "9104014296\n",
            "4740015723\n",
            "7739814292\n",
            "9629203782\n",
            "7398480256\n",
            "5812280121\n",
            "6446352898\n",
            "6458462445\n"
          ],
          "name": "stdout"
        }
      ]
    },
    {
      "cell_type": "code",
      "metadata": {
        "id": "o5UPqpjjUw_g"
      },
      "source": [
        "!./max_pairwise_product_long_StressTest < inputStress.txt > outputStr1.txt\n",
        "!./efficientStress < inputStress.txt > outputStr2.txt"
      ],
      "execution_count": null,
      "outputs": []
    },
    {
      "cell_type": "markdown",
      "metadata": {
        "id": "ckIYuMIHVMDj"
      },
      "source": [
        "Compare Stress Test with grep: Long long naive solution and Efficient Solution"
      ]
    },
    {
      "cell_type": "code",
      "metadata": {
        "id": "KVx_aXJHNMiF"
      },
      "source": [
        "!grep -xvFf outputStr1.txt outputStr2.txt"
      ],
      "execution_count": null,
      "outputs": []
    },
    {
      "cell_type": "markdown",
      "metadata": {
        "id": "L8U4151JNbxk"
      },
      "source": [
        "Count executed instructions in code and verify with inputs 1,2 and 3\n"
      ]
    },
    {
      "cell_type": "code",
      "metadata": {
        "id": "dh85RM8vNhFz",
        "colab": {
          "base_uri": "https://localhost:8080/"
        },
        "outputId": "79a62493-adae-4319-a3c9-8ad6f7025f91"
      },
      "source": [
        "%%writefile efficientExecints.cpp \n",
        "#include <iostream>\n",
        "#include <vector>\n",
        "#include <algorithm>\n",
        "\n",
        "\n",
        "long long MaxPairwiseProductFast(const std::vector<int>& numbers, long long &execints ) {\n",
        "    long long max_product = 0;                                             //1\n",
        "    execints++;\n",
        "\n",
        "    int n = numbers.size();                                                //1\n",
        "    execints++;\n",
        "\n",
        "    int max_index1=-1;                                                    //1\n",
        "    execints++;\n",
        "\n",
        "    int max_index2=-1;                                                    //1\n",
        "    execints++;\n",
        "\n",
        "\n",
        "    execints++;\n",
        "    for (int first = 0; first < n; ++first) {                            //1+2n  \n",
        "        execints+=2;\n",
        "\n",
        "        execints++;\n",
        "        if((max_index1==-1)||(numbers[first]>numbers[max_index1])){       // n\n",
        "                                                              \n",
        "\n",
        "        \tmax_index1=first;                                               //[0,n]\n",
        "          execints++;\n",
        "\n",
        "\n",
        "\t\t}\n",
        "    }\n",
        "    \n",
        "    execints++;\n",
        "    for (int second=0; second<n;++second){                                                   //1+2n\n",
        "      execints+=2;\n",
        "\n",
        "      execints++;\n",
        "    \tif((second!=max_index1)&&((max_index2==-1)||(numbers[second]>numbers[max_index2]))){   // n\n",
        "        \tmax_index2=second;                                                                //[0,n]\n",
        "          execints++;\n",
        "\t\t}\n",
        "\t}\n",
        "\n",
        "\n",
        "    execints++;\n",
        "    max_product=((long long)(numbers[max_index1]))* ((long long) numbers[max_index2]);      //1\n",
        "\n",
        "    return max_product;                                                                     //7+6n + [0,2n]\n",
        "}\n",
        "\n",
        "\n",
        "\n",
        "int main() {\n",
        "    long long execints=0LL;\n",
        "\t\n",
        "    int n;                                                   //1\n",
        "    execints++;\n",
        "\n",
        "    std::cin >> n;                                           //1\n",
        "    execints++;\n",
        "\n",
        "    std::vector<int> numbers(n);                            //n\n",
        "    execints+=n;\n",
        "\n",
        "\n",
        "    execints++;\n",
        "    for(int i=0;i<n; ++i){                                  //1+2n\n",
        "      execints+=2;            \n",
        "    \tstd::cin>> numbers[i];                                //n\n",
        "      execints++;\n",
        "\t}\n",
        "\tlong long result=MaxPairwiseProductFast(numbers,execints);       //1+1+7+6n + [0,2n]  \n",
        "  execints++;                               \n",
        "\t//std::cout<<result<<\"\\n\";\n",
        "  \n",
        "  execints++;\n",
        "\n",
        "  std::cout<<\"Total: \"<<execints<<\"\\n\";\n",
        "    return 0;                                             // 12+10n+[0,2n]\n",
        "}\n"
      ],
      "execution_count": null,
      "outputs": [
        {
          "output_type": "stream",
          "text": [
            "Writing efficientExecints.cpp\n"
          ],
          "name": "stdout"
        }
      ]
    },
    {
      "cell_type": "code",
      "metadata": {
        "colab": {
          "base_uri": "https://localhost:8080/"
        },
        "id": "9LJAa_QXXw8e",
        "outputId": "f817d566-c92c-4ee5-ea43-bfd59270d496"
      },
      "source": [
        "!g++ efficientExecints.cpp -o efficientExecints\n",
        "!./efficientExecints < input1.txt\n",
        "!./efficientExecints < input2.txt\n",
        "!./efficientExecints < input3.txt"
      ],
      "execution_count": null,
      "outputs": [
        {
          "output_type": "stream",
          "text": [
            "Total: 131\n",
            "Total: 79\n",
            "Total: 2400011\n"
          ],
          "name": "stdout"
        }
      ]
    },
    {
      "cell_type": "markdown",
      "metadata": {
        "id": "K6ybgCmpNygr"
      },
      "source": [
        "Calculate estimated time by instruction and number of instructions by second"
      ]
    },
    {
      "cell_type": "code",
      "metadata": {
        "id": "kwe3G1O3Nz1w",
        "colab": {
          "base_uri": "https://localhost:8080/"
        },
        "outputId": "6217dc8b-108b-47ae-ef35-93a61c03f19e"
      },
      "source": [
        "# Estimated time by instruction\n",
        "\n",
        "0.057/2400011"
      ],
      "execution_count": null,
      "outputs": [
        {
          "output_type": "execute_result",
          "data": {
            "text/plain": [
              "2.3749891146332247e-08"
            ]
          },
          "metadata": {
            "tags": []
          },
          "execution_count": 105
        }
      ]
    },
    {
      "cell_type": "code",
      "metadata": {
        "colab": {
          "base_uri": "https://localhost:8080/"
        },
        "id": "CLg3WGidYSlc",
        "outputId": "c811d247-416b-473b-c6a7-7ede89ee7fbd"
      },
      "source": [
        "# Estimated number of instructions by second\n",
        "\n",
        "1/(0.057/2400011)"
      ],
      "execution_count": null,
      "outputs": [
        {
          "output_type": "execute_result",
          "data": {
            "text/plain": [
              "42105456.14035088"
            ]
          },
          "metadata": {
            "tags": []
          },
          "execution_count": 106
        }
      ]
    },
    {
      "cell_type": "markdown",
      "metadata": {
        "id": "sc9nOLQrfTm0"
      },
      "source": [
        "### Super efficient solution\n",
        "\n",
        "Whitout storing the list in memory and whitout calling a function, add in each line a coment with the number of intstrcution that are executed in that line "
      ]
    },
    {
      "cell_type": "code",
      "metadata": {
        "id": "hBLt_xBQLy8E",
        "colab": {
          "base_uri": "https://localhost:8080/"
        },
        "outputId": "b82bd228-ba1e-4f31-9f00-b78a31eba7ce"
      },
      "source": [
        "%%writefile superEfficient.cpp\n",
        "#include <iostream>\n",
        "#include <vector>\n",
        "#include <algorithm>\n",
        "\n",
        "\n",
        "int main() {\n",
        "\n",
        "\t\n",
        "    int n;                                                             //1\n",
        "    std::cin >> n;                                                     //1\n",
        "    long long max_numb = 0LL;                                          //1\n",
        "    long long sec_max_numb = 0LL;                                      //1\n",
        "    long long temporal=0LL;                                            //1\n",
        "    long long max_product=0LL;                                          //1\n",
        "\n",
        "\n",
        "    for(int i=0;i<n; ++i){                                            //1+2n\n",
        "        \n",
        "    \tstd::cin>> temporal;                                             //n\n",
        "\n",
        "      if(temporal>=max_numb){                                          //n\n",
        "          sec_max_numb=max_numb;                                      //[0,n]\n",
        "          max_numb=temporal;                                          //[0,n]\n",
        "      }\n",
        "      else if(temporal>sec_max_numb){                                 //[0,n]\n",
        "          sec_max_numb=temporal;                                      //[0,n]\n",
        "      }\n",
        "\t  }\n",
        "\n",
        "\n",
        "    max_product=((long long)max_numb) * ((long long) sec_max_numb);   //1\n",
        "\n",
        "  \tstd::cout<<max_product<<\"\\n\";                                      //1\n",
        "    return 0;                                                         //9+4n+[0,2n]\n",
        "    \n",
        "}"
      ],
      "execution_count": null,
      "outputs": [
        {
          "output_type": "stream",
          "text": [
            "Writing superEfficient.cpp\n"
          ],
          "name": "stdout"
        }
      ]
    },
    {
      "cell_type": "markdown",
      "metadata": {
        "id": "683gc3roHqzb"
      },
      "source": [
        "Test with inputs 1 and 2\n",
        "\n",
        "\n",
        " "
      ]
    },
    {
      "cell_type": "code",
      "metadata": {
        "id": "b7d4LA8OIc2_",
        "colab": {
          "base_uri": "https://localhost:8080/"
        },
        "outputId": "51b3f838-ef3c-40cc-b7b6-878cc78f6cff"
      },
      "source": [
        "!g++ superEfficient.cpp -o superEfficient\n",
        "!./superEfficient < input1.txt\n",
        "!./superEfficient < input2.txt"
      ],
      "execution_count": null,
      "outputs": [
        {
          "output_type": "stream",
          "text": [
            "90\n",
            "40000000000\n"
          ],
          "name": "stdout"
        }
      ]
    },
    {
      "cell_type": "markdown",
      "metadata": {
        "id": "36Ugn1odIeJz"
      },
      "source": [
        "Test and time it with input 3"
      ]
    },
    {
      "cell_type": "code",
      "metadata": {
        "id": "jDyMbCnxHqSN",
        "colab": {
          "base_uri": "https://localhost:8080/"
        },
        "outputId": "158365bc-836d-48b0-a6b5-82d58160ede0"
      },
      "source": [
        "!time ./superEfficient < input3.txt"
      ],
      "execution_count": null,
      "outputs": [
        {
          "output_type": "stream",
          "text": [
            "39999800000\n",
            "\n",
            "real\t0m0.060s\n",
            "user\t0m0.055s\n",
            "sys\t0m0.003s\n"
          ],
          "name": "stdout"
        }
      ]
    },
    {
      "cell_type": "markdown",
      "metadata": {
        "id": "bhqiKQG6fjKM"
      },
      "source": [
        "20 stress tests "
      ]
    },
    {
      "cell_type": "code",
      "metadata": {
        "id": "lpiRifKJahDW",
        "colab": {
          "base_uri": "https://localhost:8080/"
        },
        "outputId": "4dc56eb1-0553-48f7-fd1e-65a41eb7d775"
      },
      "source": [
        "%%writefile superEfficientStress.cpp\n",
        "#include <iostream>\n",
        "#include <vector>\n",
        "#include <algorithm>\n",
        "\n",
        "\n",
        "int main() {\n",
        "\n",
        "\t\n",
        "    int n;  \n",
        "    for(int s=1;s<21;s++)                                                           \n",
        "    {  std::cin >> n;                                                     \n",
        "      long long max_numb = 0LL;                                          \n",
        "      long long sec_max_numb = 0LL;                                      \n",
        "      long long temporal=0LL;                                            \n",
        "      long long max_product=0LL;                                          \n",
        "\n",
        "\n",
        "      for(int i=0;i<n; ++i){                                            \n",
        "          \n",
        "        std::cin>> temporal;                                             \n",
        "\n",
        "        if(temporal>=max_numb){                                          \n",
        "            sec_max_numb=max_numb;                                      \n",
        "            max_numb=temporal;                                          \n",
        "        }\n",
        "        else if(temporal>sec_max_numb){                                 \n",
        "            sec_max_numb=temporal;                                      \n",
        "        }\n",
        "      }\n",
        "\n",
        "\n",
        "      max_product=((long long)max_numb) * ((long long) sec_max_numb);   \n",
        "\n",
        "      std::cout<<max_product<<\"\\n\";       }                              \n",
        "    return 0;                                                         \n",
        "    \n",
        "}"
      ],
      "execution_count": null,
      "outputs": [
        {
          "output_type": "stream",
          "text": [
            "Writing superEfficientStress.cpp\n"
          ],
          "name": "stdout"
        }
      ]
    },
    {
      "cell_type": "code",
      "metadata": {
        "id": "2KsiXKhALzwm",
        "colab": {
          "base_uri": "https://localhost:8080/"
        },
        "outputId": "5a599ca7-b078-48ba-d9d6-6c5589f07c7c"
      },
      "source": [
        "!g++ superEfficientStress.cpp -o superEfficientStress\n",
        "!./superEfficientStress < inputStress.txt"
      ],
      "execution_count": null,
      "outputs": [
        {
          "output_type": "stream",
          "text": [
            "3642211002\n",
            "7128119150\n",
            "9113410790\n",
            "9343859618\n",
            "8884259549\n",
            "1838756736\n",
            "9941374800\n",
            "6975914880\n",
            "1833433086\n",
            "4215247776\n",
            "6828158290\n",
            "6629084944\n",
            "9104014296\n",
            "4740015723\n",
            "7739814292\n",
            "9629203782\n",
            "7398480256\n",
            "5812280121\n",
            "6446352898\n",
            "6458462445\n"
          ],
          "name": "stdout"
        }
      ]
    },
    {
      "cell_type": "code",
      "metadata": {
        "id": "tvygsUHqadOb"
      },
      "source": [
        "!./superEfficientStress < inputStress.txt >outputStr3.txt"
      ],
      "execution_count": null,
      "outputs": []
    },
    {
      "cell_type": "code",
      "metadata": {
        "id": "HKAEOmQYNUlD"
      },
      "source": [
        "!grep -xvFf outputStr1.txt outputStr3.txt"
      ],
      "execution_count": null,
      "outputs": []
    },
    {
      "cell_type": "markdown",
      "metadata": {
        "id": "fEXj8GHJH5p1"
      },
      "source": [
        "Count executed instructions in code and verify with inputs 1,2 and 3"
      ]
    },
    {
      "cell_type": "code",
      "metadata": {
        "id": "LF1DHjKXIAsF",
        "colab": {
          "base_uri": "https://localhost:8080/"
        },
        "outputId": "86fdfb63-4aa7-4684-f8e5-eaa18ddfa79d"
      },
      "source": [
        "%%writefile superEfficientExecints.cpp\n",
        "#include <iostream>\n",
        "#include <vector>\n",
        "#include <algorithm>\n",
        "\n",
        "\n",
        "int main() {\n",
        "\n",
        "    long long execints=0LL;\n",
        "    int n;                                                             //1\n",
        "    execints++;\n",
        "    std::cin >> n;                                                     //1\n",
        "    execints++;\n",
        "    long long max_numb = 0LL;                                          //1\n",
        "    execints++;\n",
        "    long long sec_max_numb = 0LL;                                      //1\n",
        "    execints++;\n",
        "    long long temporal=0LL;                                            //1\n",
        "    execints++;\n",
        "    long long max_product=0LL;                                          //1\n",
        "    execints++;\n",
        "\n",
        "    execints++;\n",
        "    for(int i=0;i<n; ++i){                                            //1+2n\n",
        "    execints+=2;\n",
        "        \n",
        "    \tstd::cin>> temporal;                                             //n\n",
        "      execints++;\n",
        "\n",
        "      execints++;\n",
        "      if(temporal>=max_numb){                                          //n\n",
        "          sec_max_numb=max_numb;                                      //[0,n]\n",
        "          execints++;\n",
        "          max_numb=temporal;                                          //[0,n]\n",
        "          execints++;\n",
        "      }\n",
        "      else if(temporal>sec_max_numb){                                 //[0,n]\n",
        "            execints++;\n",
        "          sec_max_numb=temporal;                                      //[0,n]\n",
        "          execints++;\n",
        "      }\n",
        "\t  }\n",
        "\n",
        "\n",
        "    max_product=((long long)max_numb) * ((long long) sec_max_numb);   //1\n",
        "    execints++;\n",
        "\n",
        "  \t//std::cout<<max_product<<\"\\n\";                                      //1\n",
        "    execints++;\n",
        "    std::cout<<\"Total: \"<<execints<<\"\\n\";   \n",
        "    return 0;                                                         //9+4n+[0,2n]\n",
        "    \n",
        "}"
      ],
      "execution_count": null,
      "outputs": [
        {
          "output_type": "stream",
          "text": [
            "Writing superEfficientExecints.cpp\n"
          ],
          "name": "stdout"
        }
      ]
    },
    {
      "cell_type": "code",
      "metadata": {
        "colab": {
          "base_uri": "https://localhost:8080/"
        },
        "id": "cIWCGg25ctzT",
        "outputId": "545511ad-86d7-436d-b742-fa12ab6a8aaa"
      },
      "source": [
        "!g++ superEfficientExecints.cpp -o superEfficientExecints\n",
        "!./superEfficientExecints < input1.txt\n",
        "!./superEfficientExecints < input2.txt\n",
        "!./superEfficientExecints < input3.txt"
      ],
      "execution_count": null,
      "outputs": [
        {
          "output_type": "stream",
          "text": [
            "Total: 69\n",
            "Total: 43\n",
            "Total: 1200009\n"
          ],
          "name": "stdout"
        }
      ]
    },
    {
      "cell_type": "markdown",
      "metadata": {
        "id": "yae7sSm2IG9U"
      },
      "source": [
        "Calculate estimated time by instruction and number of instructions by second"
      ]
    },
    {
      "cell_type": "code",
      "metadata": {
        "id": "suouY7BYL2dz",
        "colab": {
          "base_uri": "https://localhost:8080/"
        },
        "outputId": "f34b9342-8739-4b24-d506-73c6889a5fb3"
      },
      "source": [
        "# Estimated time by instruction\n",
        "\n",
        "0.055/1200009\n"
      ],
      "execution_count": null,
      "outputs": [
        {
          "output_type": "execute_result",
          "data": {
            "text/plain": [
              "4.583298958591144e-08"
            ]
          },
          "metadata": {
            "tags": []
          },
          "execution_count": 103
        }
      ]
    },
    {
      "cell_type": "code",
      "metadata": {
        "colab": {
          "base_uri": "https://localhost:8080/"
        },
        "id": "JOAy3z_LdDME",
        "outputId": "cf2de2a8-ca26-408f-de04-8c739aa84726"
      },
      "source": [
        "# Estimated number of instructions by second\n",
        "\n",
        "1/(0.055/1200009)"
      ],
      "execution_count": null,
      "outputs": [
        {
          "output_type": "execute_result",
          "data": {
            "text/plain": [
              "21818345.454545453"
            ]
          },
          "metadata": {
            "tags": []
          },
          "execution_count": 104
        }
      ]
    },
    {
      "cell_type": "markdown",
      "metadata": {
        "id": "rydCU4bFfrhG"
      },
      "source": [
        "## Python"
      ]
    },
    {
      "cell_type": "markdown",
      "metadata": {
        "id": "6n707zUXO0N0"
      },
      "source": [
        "Efficient cython file reading, string parsing, and array building\n",
        "\n",
        "https://stackoverflow.com/questions/37219875/efficient-cython-file-reading-string-parsing-and-array-building\n",
        "\n",
        "\n",
        "\n",
        "File PreProcessing With C and Cython\n",
        "\n",
        "https://github.com/EveryTimeIWill18/Cython_Repo/blob/master/FastFileProcessingWithCython.ipynb\n",
        "\n"
      ]
    },
    {
      "cell_type": "markdown",
      "metadata": {
        "id": "I76eRg7RIIjm"
      },
      "source": [
        "### Efficient solution"
      ]
    },
    {
      "cell_type": "code",
      "metadata": {
        "id": "0JSrSIgIwCMU",
        "colab": {
          "base_uri": "https://localhost:8080/"
        },
        "outputId": "78d44f2a-300a-478e-b928-8104b33f59ea"
      },
      "source": [
        "%%writefile max_pairwise_product.py \n",
        "\n",
        "if __name__ == '__main__':\n",
        "    input_n = int(input())\n",
        "    input_numbers = [int(x) for x in input().split()]\n",
        "    max_numb=0\n",
        "    second_max_numb=0\n",
        "    max_product=0\n",
        "    for temporal in range(input_n):\n",
        "      if (input_numbers[temporal]>=max_numb):\n",
        "        second_max_numb=max_numb\n",
        "        max_numb=input_numbers[temporal]\n",
        "      elif (input_numbers[temporal]>second_max_numb):\n",
        "        second_max_numb=input_numbers[temporal]\n",
        "\n",
        "    max_product= max_numb * second_max_numb\n",
        "    print(max_product)"
      ],
      "execution_count": null,
      "outputs": [
        {
          "output_type": "stream",
          "text": [
            "Writing max_pairwise_product.py\n"
          ],
          "name": "stdout"
        }
      ]
    },
    {
      "cell_type": "code",
      "metadata": {
        "id": "vRVjfp8pKIS8",
        "colab": {
          "base_uri": "https://localhost:8080/"
        },
        "outputId": "43fa915e-25ff-45ec-a32e-3db817cb06e4"
      },
      "source": [
        "!python max_pairwise_product.py"
      ],
      "execution_count": null,
      "outputs": [
        {
          "output_type": "stream",
          "text": [
            "4\n",
            "1 3 2 3\n",
            "9\n"
          ],
          "name": "stdout"
        }
      ]
    },
    {
      "cell_type": "code",
      "metadata": {
        "id": "lsLq9RdCy1bj",
        "colab": {
          "base_uri": "https://localhost:8080/"
        },
        "outputId": "7e4b5d72-fddf-4fd4-b6d9-f41683a2ed3b"
      },
      "source": [
        "!python max_pairwise_product.py < input1.txt"
      ],
      "execution_count": null,
      "outputs": [
        {
          "output_type": "stream",
          "text": [
            "90\n"
          ],
          "name": "stdout"
        }
      ]
    },
    {
      "cell_type": "code",
      "metadata": {
        "colab": {
          "base_uri": "https://localhost:8080/"
        },
        "id": "wm47HUcjeYPa",
        "outputId": "af5afcde-e581-4857-dc13-628a1a9ea2af"
      },
      "source": [
        "!python max_pairwise_product.py < input2.txt"
      ],
      "execution_count": null,
      "outputs": [
        {
          "output_type": "stream",
          "text": [
            "40000000000\n"
          ],
          "name": "stdout"
        }
      ]
    },
    {
      "cell_type": "code",
      "metadata": {
        "colab": {
          "base_uri": "https://localhost:8080/"
        },
        "id": "7PNzIgFGeYyx",
        "outputId": "5006d188-5212-4315-b607-1964636dad1b"
      },
      "source": [
        "!time python max_pairwise_product.py < input3.txt"
      ],
      "execution_count": null,
      "outputs": [
        {
          "output_type": "stream",
          "text": [
            "39999800000\n",
            "\n",
            "real\t0m0.175s\n",
            "user\t0m0.134s\n",
            "sys\t0m0.036s\n"
          ],
          "name": "stdout"
        }
      ]
    },
    {
      "cell_type": "markdown",
      "metadata": {
        "id": "yfZC2kIZeisg"
      },
      "source": [
        "## StressTest"
      ]
    },
    {
      "cell_type": "code",
      "metadata": {
        "colab": {
          "base_uri": "https://localhost:8080/"
        },
        "id": "A_ZgOEZXeuhk",
        "outputId": "4ddf3bbe-1d87-4071-baad-e800cd59b51c"
      },
      "source": [
        "%%writefile max_pairwise_productStress.py \n",
        "\n",
        "if __name__ == '__main__':\n",
        "  for s in range(1,21):\n",
        "      input_n = int(input())\n",
        "      input_numbers = [int(x) for x in input().split()]\n",
        "      max_numb=0\n",
        "      second_max_numb=0\n",
        "      max_product=0\n",
        "      for temporal in range(input_n):\n",
        "        if (input_numbers[temporal]>=max_numb):\n",
        "          second_max_numb=max_numb\n",
        "          max_numb=input_numbers[temporal]\n",
        "        elif (input_numbers[temporal]>second_max_numb):\n",
        "          second_max_numb=input_numbers[temporal]\n",
        "\n",
        "      max_product= max_numb * second_max_numb\n",
        "      print(max_product)"
      ],
      "execution_count": null,
      "outputs": [
        {
          "output_type": "stream",
          "text": [
            "Writing max_pairwise_productStress.py\n"
          ],
          "name": "stdout"
        }
      ]
    },
    {
      "cell_type": "code",
      "metadata": {
        "colab": {
          "base_uri": "https://localhost:8080/"
        },
        "id": "RWDJKUoSepD3",
        "outputId": "865afe7f-c940-4e6c-9d80-bbad99bea8cc"
      },
      "source": [
        "!python max_pairwise_productStress.py < inputStress.txt"
      ],
      "execution_count": null,
      "outputs": [
        {
          "output_type": "stream",
          "text": [
            "3642211002\n",
            "7128119150\n",
            "9113410790\n",
            "9343859618\n",
            "8884259549\n",
            "1838756736\n",
            "9941374800\n",
            "6975914880\n",
            "1833433086\n",
            "4215247776\n",
            "6828158290\n",
            "6629084944\n",
            "9104014296\n",
            "4740015723\n",
            "7739814292\n",
            "9629203782\n",
            "7398480256\n",
            "5812280121\n",
            "6446352898\n",
            "6458462445\n"
          ],
          "name": "stdout"
        }
      ]
    },
    {
      "cell_type": "code",
      "metadata": {
        "id": "w-gd8jXHe_nS"
      },
      "source": [
        "!python max_pairwise_productStress.py < inputStress.txt> outputStrPy.txt"
      ],
      "execution_count": null,
      "outputs": []
    },
    {
      "cell_type": "code",
      "metadata": {
        "id": "jmF0qxWJfFVL"
      },
      "source": [
        "!grep -xvFf outputStr3.txt outputStrPy.txt"
      ],
      "execution_count": null,
      "outputs": []
    },
    {
      "cell_type": "markdown",
      "metadata": {
        "id": "LkVxxlhl9H98"
      },
      "source": [
        "# Screenhsoots of the Coursera Submissions in C++ and Python"
      ]
    },
    {
      "cell_type": "markdown",
      "metadata": {
        "id": "FRsK_FZ_BNJE"
      },
      "source": [
        "![AplusB](https://github.com/geramirezl/AlgorithmsUN2021I/blob/main/Lab6/AplusB.jpg?raw=true)"
      ]
    },
    {
      "cell_type": "markdown",
      "metadata": {
        "id": "ppaLGvlPf88X"
      },
      "source": [
        "![MaximumPairwiseProduct](https://github.com/geramirezl/AlgorithmsUN2021I/blob/main/Lab6/MaximumPairwiseProduct.jpg?raw=true)"
      ]
    }
  ]
}