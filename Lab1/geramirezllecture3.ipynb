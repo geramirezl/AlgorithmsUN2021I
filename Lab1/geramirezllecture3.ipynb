{
  "nbformat": 4,
  "nbformat_minor": 0,
  "metadata": {
    "kernelspec": {
      "display_name": "Python 3.5",
      "language": "python",
      "name": "py35"
    },
    "language_info": {
      "codemirror_mode": {
        "name": "ipython",
        "version": 3
      },
      "file_extension": ".py",
      "mimetype": "text/x-python",
      "name": "python",
      "nbconvert_exporter": "python",
      "pygments_lexer": "ipython3",
      "version": "3.5.9"
    },
    "colab": {
      "name": "geramirezllecture3.ipynb",
      "provenance": []
    }
  },
  "cells": [
    {
      "cell_type": "markdown",
      "metadata": {
        "id": "XlAaceQzQkZI"
      },
      "source": [
        "# Introduction to NumPy\n",
        "by Maxwell Margenot\n",
        "\n",
        "Part of the Quantopian Lecture Series:\n",
        "\n",
        "* [www.quantopian.com/lectures](https://www.quantopian.com/lectures)\n",
        "* [github.com/quantopian/research_public](https://github.com/quantopian/research_public)\n",
        "\n",
        "Notebook released under the Creative Commons Attribution 4.0 License."
      ]
    },
    {
      "cell_type": "markdown",
      "metadata": {
        "id": "8dhf6hspQkZQ"
      },
      "source": [
        "NumPy is an incredibly powerful package in Python that is ubiquitous throughout the Quantopian platform. It has strong integration with Pandas, another tool we will be covering in the lecture series. NumPy adds support for multi-dimensional arrays and mathematical functions that allow you to easily perform linear algebra calculations. This lecture will be a collection of linear algebra examples computed using NumPy."
      ]
    },
    {
      "cell_type": "code",
      "metadata": {
        "id": "qz5kIq0zQkZR"
      },
      "source": [
        "import numpy as np\n",
        "import matplotlib.pyplot as plt"
      ],
      "execution_count": 1,
      "outputs": []
    },
    {
      "cell_type": "markdown",
      "metadata": {
        "id": "gpVB0aZcQkZS"
      },
      "source": [
        "### Basic NumPy arrays"
      ]
    },
    {
      "cell_type": "markdown",
      "metadata": {
        "id": "MHTGL9vLQkZS"
      },
      "source": [
        "The most basic way that we could make use of NumPy in finance is calculating the mean return of a portfolio. Say that we have a list containing the historical return of several stocks."
      ]
    },
    {
      "cell_type": "code",
      "metadata": {
        "id": "Drac-BZkQkZS"
      },
      "source": [
        "stock_list = [3.5, 5, 2, 8, 4.2]"
      ],
      "execution_count": 2,
      "outputs": []
    },
    {
      "cell_type": "code",
      "metadata": {
        "id": "zcvrQ6-3QkZS"
      },
      "source": [
        "stock_list2 = [190,193,192.3,183.5,169]"
      ],
      "execution_count": 3,
      "outputs": []
    },
    {
      "cell_type": "markdown",
      "metadata": {
        "id": "ynbS586aQkZT"
      },
      "source": [
        "We can make an array by calling a function on the list:"
      ]
    },
    {
      "cell_type": "code",
      "metadata": {
        "colab": {
          "base_uri": "https://localhost:8080/"
        },
        "id": "JBnCvf_TQkZT",
        "outputId": "f2c5d288-9b35-45e7-af28-1a254a56ebd6"
      },
      "source": [
        "returns = np.array(stock_list)\n",
        "print (returns), type(returns)"
      ],
      "execution_count": 4,
      "outputs": [
        {
          "output_type": "stream",
          "text": [
            "[3.5 5.  2.  8.  4.2]\n"
          ],
          "name": "stdout"
        },
        {
          "output_type": "execute_result",
          "data": {
            "text/plain": [
              "(None, numpy.ndarray)"
            ]
          },
          "metadata": {
            "tags": []
          },
          "execution_count": 4
        }
      ]
    },
    {
      "cell_type": "code",
      "metadata": {
        "colab": {
          "base_uri": "https://localhost:8080/"
        },
        "id": "HicmQeE4QkZU",
        "outputId": "0572584e-c9dd-4cbd-8fe1-46e1dd2c6c03"
      },
      "source": [
        "r2 = np.array(stock_list2)\n",
        "print (r2), type(r2)"
      ],
      "execution_count": 5,
      "outputs": [
        {
          "output_type": "stream",
          "text": [
            "[190.  193.  192.3 183.5 169. ]\n"
          ],
          "name": "stdout"
        },
        {
          "output_type": "execute_result",
          "data": {
            "text/plain": [
              "(None, numpy.ndarray)"
            ]
          },
          "metadata": {
            "tags": []
          },
          "execution_count": 5
        }
      ]
    },
    {
      "cell_type": "markdown",
      "metadata": {
        "id": "ZpxXgcLxQkZV"
      },
      "source": [
        "You'll notice that the type of our array is 'ndarray', not just 'array'. This is because NumPy arrays can be created with multiple dimensions. If we pass np.array() a list of lists, it will create a 2-dimensional array. If we pass a list of lists of lists, it will create a 3-dimensional array, and so on and so forth."
      ]
    },
    {
      "cell_type": "code",
      "metadata": {
        "colab": {
          "base_uri": "https://localhost:8080/"
        },
        "id": "qDhihrMfQkZV",
        "outputId": "f8a87858-6b0b-4380-fe23-295277b48e66"
      },
      "source": [
        "A = np.array([[1, 2], [3, 4]])\n",
        "print (A), type(A)"
      ],
      "execution_count": 6,
      "outputs": [
        {
          "output_type": "stream",
          "text": [
            "[[1 2]\n",
            " [3 4]]\n"
          ],
          "name": "stdout"
        },
        {
          "output_type": "execute_result",
          "data": {
            "text/plain": [
              "(None, numpy.ndarray)"
            ]
          },
          "metadata": {
            "tags": []
          },
          "execution_count": 6
        }
      ]
    },
    {
      "cell_type": "code",
      "metadata": {
        "colab": {
          "base_uri": "https://localhost:8080/"
        },
        "id": "PfNhD4_eQkZV",
        "outputId": "5a4d6791-f33c-48d2-f35b-497b92de6991"
      },
      "source": [
        "mult = np.array([[1, 2,3], [3, 4,3],[3,3,3]])\n",
        "print (mult), type(mult)"
      ],
      "execution_count": 7,
      "outputs": [
        {
          "output_type": "stream",
          "text": [
            "[[1 2 3]\n",
            " [3 4 3]\n",
            " [3 3 3]]\n"
          ],
          "name": "stdout"
        },
        {
          "output_type": "execute_result",
          "data": {
            "text/plain": [
              "(None, numpy.ndarray)"
            ]
          },
          "metadata": {
            "tags": []
          },
          "execution_count": 7
        }
      ]
    },
    {
      "cell_type": "markdown",
      "metadata": {
        "id": "DAtsaCV3QkZW"
      },
      "source": [
        "We can access the dimensions of an array by looking at its `shape` member variable."
      ]
    },
    {
      "cell_type": "code",
      "metadata": {
        "colab": {
          "base_uri": "https://localhost:8080/"
        },
        "id": "xNeNv9DdQkZW",
        "outputId": "1df4fe02-aabf-4863-d9f1-9ff4bd2454a1"
      },
      "source": [
        "print (A.shape)"
      ],
      "execution_count": 8,
      "outputs": [
        {
          "output_type": "stream",
          "text": [
            "(2, 2)\n"
          ],
          "name": "stdout"
        }
      ]
    },
    {
      "cell_type": "code",
      "metadata": {
        "colab": {
          "base_uri": "https://localhost:8080/"
        },
        "id": "DzgJcmscQkZW",
        "outputId": "fa559252-5621-4fc8-c0b3-689001426f7d"
      },
      "source": [
        "print (mult.shape)"
      ],
      "execution_count": 9,
      "outputs": [
        {
          "output_type": "stream",
          "text": [
            "(3, 3)\n"
          ],
          "name": "stdout"
        }
      ]
    },
    {
      "cell_type": "markdown",
      "metadata": {
        "id": "rcyKHcYaQkZW"
      },
      "source": [
        "Arrays are indexed in much the same way as lists in Python. Elements of a list begin indexing from $0$ and end at $n - 1$, where $n$ is the length of the array."
      ]
    },
    {
      "cell_type": "code",
      "metadata": {
        "colab": {
          "base_uri": "https://localhost:8080/"
        },
        "id": "_UrDZv1zQkZX",
        "outputId": "687d4e8b-ecac-42cb-dfa5-303d9ae84e61"
      },
      "source": [
        "print (returns[0], returns[len(returns) - 1])"
      ],
      "execution_count": 10,
      "outputs": [
        {
          "output_type": "stream",
          "text": [
            "3.5 4.2\n"
          ],
          "name": "stdout"
        }
      ]
    },
    {
      "cell_type": "code",
      "metadata": {
        "colab": {
          "base_uri": "https://localhost:8080/"
        },
        "id": "H2DWLxHFQkZX",
        "outputId": "6a093c89-4166-4bc7-ca4d-af5a5f695f8f"
      },
      "source": [
        "print (r2[0], r2[len(r2) - 2])"
      ],
      "execution_count": 11,
      "outputs": [
        {
          "output_type": "stream",
          "text": [
            "190.0 183.5\n"
          ],
          "name": "stdout"
        }
      ]
    },
    {
      "cell_type": "markdown",
      "metadata": {
        "id": "6nGzOE1LQkZX"
      },
      "source": [
        "We can take a slice of an array using a colon, just like in a list."
      ]
    },
    {
      "cell_type": "code",
      "metadata": {
        "colab": {
          "base_uri": "https://localhost:8080/"
        },
        "id": "LnEhKc5-QkZX",
        "outputId": "1c533364-88cd-409e-9f7b-474dd1ce366a"
      },
      "source": [
        "print (returns[1:3])"
      ],
      "execution_count": 12,
      "outputs": [
        {
          "output_type": "stream",
          "text": [
            "[5. 2.]\n"
          ],
          "name": "stdout"
        }
      ]
    },
    {
      "cell_type": "code",
      "metadata": {
        "colab": {
          "base_uri": "https://localhost:8080/"
        },
        "id": "Xrx3D5j7QkZY",
        "outputId": "be55e448-059d-45ab-88fc-caa12fe48927"
      },
      "source": [
        "print (r2[2:5])"
      ],
      "execution_count": 13,
      "outputs": [
        {
          "output_type": "stream",
          "text": [
            "[192.3 183.5 169. ]\n"
          ],
          "name": "stdout"
        }
      ]
    },
    {
      "cell_type": "markdown",
      "metadata": {
        "id": "qjBemD_0QkZY"
      },
      "source": [
        "A slice of an array, like in a list, will select a group of elements in the array starting from the first element indicated and going up to (but not including) the last element indicated.\n",
        "\n",
        "In the case of multidimensional arrays, many of the same conventions with slicing and indexing hold. We can access the first column of a 2-dimensional array like so:"
      ]
    },
    {
      "cell_type": "code",
      "metadata": {
        "colab": {
          "base_uri": "https://localhost:8080/"
        },
        "id": "EEENi-3LQkZY",
        "outputId": "72b28b05-4a59-4535-9f2d-4d9ee33571ca"
      },
      "source": [
        "print (A[:, 0])"
      ],
      "execution_count": 14,
      "outputs": [
        {
          "output_type": "stream",
          "text": [
            "[1 3]\n"
          ],
          "name": "stdout"
        }
      ]
    },
    {
      "cell_type": "code",
      "metadata": {
        "colab": {
          "base_uri": "https://localhost:8080/"
        },
        "id": "fJI887SyQkZY",
        "outputId": "42d914f0-e13b-46e1-99c4-7ea350a8918b"
      },
      "source": [
        "print (mult[:, 0])"
      ],
      "execution_count": 15,
      "outputs": [
        {
          "output_type": "stream",
          "text": [
            "[1 3 3]\n"
          ],
          "name": "stdout"
        }
      ]
    },
    {
      "cell_type": "markdown",
      "metadata": {
        "id": "B83agu23QkZZ"
      },
      "source": [
        "And the first row of a 2-dimensional array like so:"
      ]
    },
    {
      "cell_type": "code",
      "metadata": {
        "colab": {
          "base_uri": "https://localhost:8080/"
        },
        "id": "BoDeV-_6QkZZ",
        "outputId": "0906eb4d-f84d-483f-8f3c-e92efbdf2cfd"
      },
      "source": [
        "print (A[0, :])"
      ],
      "execution_count": 16,
      "outputs": [
        {
          "output_type": "stream",
          "text": [
            "[1 2]\n"
          ],
          "name": "stdout"
        }
      ]
    },
    {
      "cell_type": "code",
      "metadata": {
        "colab": {
          "base_uri": "https://localhost:8080/"
        },
        "id": "pgUs6V7bQkZZ",
        "outputId": "7aa6252c-657b-4841-906d-abbf6fab4977"
      },
      "source": [
        "print (mult[1, :])"
      ],
      "execution_count": 17,
      "outputs": [
        {
          "output_type": "stream",
          "text": [
            "[3 4 3]\n"
          ],
          "name": "stdout"
        }
      ]
    },
    {
      "cell_type": "markdown",
      "metadata": {
        "id": "kWYv9ZZlQkZZ"
      },
      "source": [
        "Notice that each slice of the array returns yet another array!"
      ]
    },
    {
      "cell_type": "code",
      "metadata": {
        "colab": {
          "base_uri": "https://localhost:8080/"
        },
        "id": "MRwAJf9bQkZZ",
        "outputId": "bf8adc6b-8324-4ddd-8bff-d0a1944e6617"
      },
      "source": [
        "print (type(A[0,:]))"
      ],
      "execution_count": 18,
      "outputs": [
        {
          "output_type": "stream",
          "text": [
            "<class 'numpy.ndarray'>\n"
          ],
          "name": "stdout"
        }
      ]
    },
    {
      "cell_type": "code",
      "metadata": {
        "colab": {
          "base_uri": "https://localhost:8080/"
        },
        "id": "j1FAONxkQkZa",
        "outputId": "eee11c83-7d99-4e4f-d522-b56912a4e39b"
      },
      "source": [
        "print (type(mult[0,:]))"
      ],
      "execution_count": 19,
      "outputs": [
        {
          "output_type": "stream",
          "text": [
            "<class 'numpy.ndarray'>\n"
          ],
          "name": "stdout"
        }
      ]
    },
    {
      "cell_type": "markdown",
      "metadata": {
        "id": "BeFF-jBLQkZa"
      },
      "source": [
        "Passing only one index to a 2-dimensional array will result in returning the row with the given index as well, providing us with another way to access individual rows."
      ]
    },
    {
      "cell_type": "code",
      "metadata": {
        "colab": {
          "base_uri": "https://localhost:8080/"
        },
        "id": "t6hbLGThQkZa",
        "outputId": "c8070b13-4d5f-4cf1-acb4-eec33412e1e0"
      },
      "source": [
        "print (A[0])"
      ],
      "execution_count": 20,
      "outputs": [
        {
          "output_type": "stream",
          "text": [
            "[1 2]\n"
          ],
          "name": "stdout"
        }
      ]
    },
    {
      "cell_type": "code",
      "metadata": {
        "colab": {
          "base_uri": "https://localhost:8080/"
        },
        "id": "OVBJNOJMQkZa",
        "outputId": "0e13c6f0-5760-4082-abb3-0293212007b2"
      },
      "source": [
        "print (mult[0])"
      ],
      "execution_count": 21,
      "outputs": [
        {
          "output_type": "stream",
          "text": [
            "[1 2 3]\n"
          ],
          "name": "stdout"
        }
      ]
    },
    {
      "cell_type": "markdown",
      "metadata": {
        "id": "Zdwk9zUuQkZa"
      },
      "source": [
        "Accessing the index of an individual element will return only the element."
      ]
    },
    {
      "cell_type": "code",
      "metadata": {
        "colab": {
          "base_uri": "https://localhost:8080/"
        },
        "id": "pcj7uyjbQkZb",
        "outputId": "e003d8c1-c8a2-4cfc-e235-0485828783c2"
      },
      "source": [
        "print (A[1, 1])"
      ],
      "execution_count": 22,
      "outputs": [
        {
          "output_type": "stream",
          "text": [
            "4\n"
          ],
          "name": "stdout"
        }
      ]
    },
    {
      "cell_type": "code",
      "metadata": {
        "colab": {
          "base_uri": "https://localhost:8080/"
        },
        "id": "Re9sYNdSQkZb",
        "outputId": "e92be93c-e801-438c-bd60-4a90d32a30ba"
      },
      "source": [
        "print (mult[1, 2])"
      ],
      "execution_count": 23,
      "outputs": [
        {
          "output_type": "stream",
          "text": [
            "3\n"
          ],
          "name": "stdout"
        }
      ]
    },
    {
      "cell_type": "markdown",
      "metadata": {
        "id": "VJNlrrdgQkZb"
      },
      "source": [
        "#### Array functions\n",
        "\n",
        "Functions built into NumPy can be easily called on arrays. Most functions are applied to an array element-wise (as scalar multiplication is). For example, if we call `log()` on an array, the logarithm will be taken of each element."
      ]
    },
    {
      "cell_type": "code",
      "metadata": {
        "colab": {
          "base_uri": "https://localhost:8080/"
        },
        "id": "pJ3Rjf50QkZb",
        "outputId": "e9375e2c-c8ce-45da-e65a-0ed64b306863"
      },
      "source": [
        "print (np.log(returns))"
      ],
      "execution_count": 24,
      "outputs": [
        {
          "output_type": "stream",
          "text": [
            "[1.25276297 1.60943791 0.69314718 2.07944154 1.43508453]\n"
          ],
          "name": "stdout"
        }
      ]
    },
    {
      "cell_type": "code",
      "metadata": {
        "colab": {
          "base_uri": "https://localhost:8080/"
        },
        "id": "i9NFFIO-QkZc",
        "outputId": "dd3c9b85-4057-47de-f4d6-f3163af49558"
      },
      "source": [
        "print ( np.log(r2))"
      ],
      "execution_count": 25,
      "outputs": [
        {
          "output_type": "stream",
          "text": [
            "[5.24702407 5.26269019 5.25905665 5.21221467 5.12989871]\n"
          ],
          "name": "stdout"
        }
      ]
    },
    {
      "cell_type": "markdown",
      "metadata": {
        "id": "r2QwezumQkZc"
      },
      "source": [
        "Some functions return a single value. This is because they treat the array as a collection (similar to a list), performing the designated function. For example, the `mean()` function will do exactly what you expect, calculating the mean of an array."
      ]
    },
    {
      "cell_type": "code",
      "metadata": {
        "colab": {
          "base_uri": "https://localhost:8080/"
        },
        "id": "hPivN9FKQkZc",
        "outputId": "07c49bc6-113b-4862-e086-c24c0a2ab4e6"
      },
      "source": [
        "print (np.mean(returns))"
      ],
      "execution_count": 26,
      "outputs": [
        {
          "output_type": "stream",
          "text": [
            "4.54\n"
          ],
          "name": "stdout"
        }
      ]
    },
    {
      "cell_type": "code",
      "metadata": {
        "colab": {
          "base_uri": "https://localhost:8080/"
        },
        "id": "ZeHd3Ml8QkZc",
        "outputId": "55d6ad11-137b-43ef-e807-f953e97fae65"
      },
      "source": [
        "print (np.mean(r2))"
      ],
      "execution_count": 27,
      "outputs": [
        {
          "output_type": "stream",
          "text": [
            "185.56\n"
          ],
          "name": "stdout"
        }
      ]
    },
    {
      "cell_type": "markdown",
      "metadata": {
        "id": "vuElU6nWQkZc"
      },
      "source": [
        "Or the `max()` function will return the maximum element of an array."
      ]
    },
    {
      "cell_type": "code",
      "metadata": {
        "colab": {
          "base_uri": "https://localhost:8080/"
        },
        "id": "jjq-iJIpQkZd",
        "outputId": "2b604376-9e57-4e87-9c83-fea98b611bd2"
      },
      "source": [
        "print (np.max(returns))"
      ],
      "execution_count": 28,
      "outputs": [
        {
          "output_type": "stream",
          "text": [
            "8.0\n"
          ],
          "name": "stdout"
        }
      ]
    },
    {
      "cell_type": "code",
      "metadata": {
        "colab": {
          "base_uri": "https://localhost:8080/"
        },
        "id": "VuHKEIIEQkZd",
        "outputId": "1da1fb59-730f-4396-e398-9fe4e31718fc"
      },
      "source": [
        "print (np.max(mult))"
      ],
      "execution_count": 29,
      "outputs": [
        {
          "output_type": "stream",
          "text": [
            "4\n"
          ],
          "name": "stdout"
        }
      ]
    },
    {
      "cell_type": "markdown",
      "metadata": {
        "id": "NcLL4sXBQkZd"
      },
      "source": [
        "For further reading on the universal functions in NumPy, check out the [documentation](https://docs.scipy.org/doc/numpy/user/quickstart.html#universal-functions)."
      ]
    },
    {
      "cell_type": "markdown",
      "metadata": {
        "id": "iSj_NFLVQkZd"
      },
      "source": [
        "### Return to the returns\n",
        "\n",
        "Now let's modify our returns array with scalar values. If we add a scalar value to an array it will be added to every element of the array. If we multiply an array by a scalar value it will be multiplied against every element of the array. If we do both, both will happen!"
      ]
    },
    {
      "cell_type": "code",
      "metadata": {
        "scrolled": false,
        "colab": {
          "base_uri": "https://localhost:8080/"
        },
        "id": "cxj7RLyhQkZd",
        "outputId": "32605c5b-6710-4aa5-83d7-3e2a87620efe"
      },
      "source": [
        "returns*2 + 5"
      ],
      "execution_count": 30,
      "outputs": [
        {
          "output_type": "execute_result",
          "data": {
            "text/plain": [
              "array([12. , 15. ,  9. , 21. , 13.4])"
            ]
          },
          "metadata": {
            "tags": []
          },
          "execution_count": 30
        }
      ]
    },
    {
      "cell_type": "code",
      "metadata": {
        "scrolled": false,
        "colab": {
          "base_uri": "https://localhost:8080/"
        },
        "id": "24vwnDhKQkZe",
        "outputId": "4658b28d-6db7-4959-da07-d2b8b9b1d90c"
      },
      "source": [
        "r2*100+ 3.3"
      ],
      "execution_count": 31,
      "outputs": [
        {
          "output_type": "execute_result",
          "data": {
            "text/plain": [
              "array([19003.3, 19303.3, 19233.3, 18353.3, 16903.3])"
            ]
          },
          "metadata": {
            "tags": []
          },
          "execution_count": 31
        }
      ]
    },
    {
      "cell_type": "markdown",
      "metadata": {
        "id": "wimujo--QkZe"
      },
      "source": [
        "NumPy also has functions specifically built to operate on arrays. Let's take the mean and standard deviation of this group of returns."
      ]
    },
    {
      "cell_type": "code",
      "metadata": {
        "colab": {
          "base_uri": "https://localhost:8080/"
        },
        "id": "-dw50ROWQkZe",
        "outputId": "860c5cc0-d07e-427e-87c0-bce1a4315b7d"
      },
      "source": [
        "print (\"Mean: \", np.mean(returns), \"Std Dev: \", np.std(returns))"
      ],
      "execution_count": 32,
      "outputs": [
        {
          "output_type": "stream",
          "text": [
            "Mean:  4.54 Std Dev:  1.9915822855207364\n"
          ],
          "name": "stdout"
        }
      ]
    },
    {
      "cell_type": "code",
      "metadata": {
        "colab": {
          "base_uri": "https://localhost:8080/"
        },
        "id": "7ftnU9YuQkZe",
        "outputId": "460d6498-ba46-482a-83c1-cee940db2f51"
      },
      "source": [
        "print (\"Mean: \", np.mean(r2), \"Std Dev: \", np.std(r2))"
      ],
      "execution_count": 33,
      "outputs": [
        {
          "output_type": "stream",
          "text": [
            "Mean:  185.56 Std Dev:  8.932771126587763\n"
          ],
          "name": "stdout"
        }
      ]
    },
    {
      "cell_type": "markdown",
      "metadata": {
        "id": "rW2sAqLaQkZf"
      },
      "source": [
        "Let's simulate a universe of stocks using NumPy's functions. First we need to create the arrays to hold the assets and returns that we will use to build a portfolio. This is because arrays are created with a fixed size. Their dimensions can't be changed without creating a new array."
      ]
    },
    {
      "cell_type": "code",
      "metadata": {
        "id": "TeqDREjIQkZf"
      },
      "source": [
        "N = 10\n",
        "assets = np.zeros((N, 100))\n",
        "returns = np.zeros((N, 100))"
      ],
      "execution_count": 34,
      "outputs": []
    },
    {
      "cell_type": "code",
      "metadata": {
        "id": "ex9XKYGqQkZf"
      },
      "source": [
        "N2 = 30\n",
        "assets2 = np.zeros((N2, 150))\n",
        "returns2 = np.zeros((N2, 150))"
      ],
      "execution_count": 35,
      "outputs": []
    },
    {
      "cell_type": "markdown",
      "metadata": {
        "id": "sBguYhtUQkZf"
      },
      "source": [
        "This function, `zeroes()`, creates a NumPy array with the given dimensions that is entirely filled in with $0$. We can pass a single value or a tuple of as many dimensions as we like. Passing in the tuple `(N, 100)`, will return a two-dimensional array with $N$ rows and $100$ columns. Our result is a $N \\times 100$ array.\n",
        "\n",
        "Now we will simulate a base asset. We want the universe of stocks to be correlated with each other so we will use this initial value to generate the others."
      ]
    },
    {
      "cell_type": "code",
      "metadata": {
        "id": "hYk-ug8hQkZf"
      },
      "source": [
        "R_1 = np.random.normal(1.01, 0.03, 100)\n",
        "returns[0] = R_1\n",
        "assets[0] = np.cumprod(R_1)"
      ],
      "execution_count": 36,
      "outputs": []
    },
    {
      "cell_type": "code",
      "metadata": {
        "id": "l-R9EFJqQkZg"
      },
      "source": [
        "R_e2 = np.random.normal(1.03, 0.04, 150)\n",
        "returns2[0] = R_e2\n",
        "assets2[0] = np.cumprod(R_e2)"
      ],
      "execution_count": 37,
      "outputs": []
    },
    {
      "cell_type": "markdown",
      "metadata": {
        "id": "8ur2HboEQkZg"
      },
      "source": [
        "The `random` module in NumPy is exceedingly useful. It contains methods for sampling from many different probability distributions, some of which are covered in the [random variables lecture](https://www.quantopian.com/lectures/random-variables) in the Quantopian lecture series. In this case we draw $N = 100$ random samples from a normal distribution with mean $1.01$ and standard deviation $0.03$. We treat these as the daily percentage returns of our asset and take the cumulative product of these samples to get the current price.\n",
        "\n",
        "The way we have generated our universe, the the individual $R_i$ vectors are each 1-dimensional arrays and the `returns` and `assets` variables contain 2-dimensional arrays. Above, we set the initial row of both `returns` and `assets` to be the first $R_i$ vector and the cumulative asset price based on those returns, respectively.\n",
        "\n",
        "We will now use this base asset to create a few other random assets that are correlated with it."
      ]
    },
    {
      "cell_type": "code",
      "metadata": {
        "id": "A8jUoZZzQkZg"
      },
      "source": [
        "# Generate assets that are correlated with R_1\n",
        "for i in range(1, N):\n",
        "    R_i = R_1 + np.random.normal(0.001, 0.02, 100)\n",
        "    returns[i] = R_i # Set each row of returns equal to the new R_i array\n",
        "    assets[i] = np.cumprod(R_i)\n",
        "    \n",
        "mean_returns = [(np.mean(R) - 1)*100 for R in returns]\n",
        "return_volatilities = [np.std(R) for R in returns]"
      ],
      "execution_count": 38,
      "outputs": []
    },
    {
      "cell_type": "code",
      "metadata": {
        "id": "X-3ww0ZvQkZg"
      },
      "source": [
        "\n",
        "for i in range(1, N2):\n",
        "    R_i = R_e2 + np.random.normal(0.001, 0.02, 150)\n",
        "    returns2[i] = R_i\n",
        "    assets2[i] = np.cumprod(R_i)\n",
        "    \n",
        "mean_returns2 = [(np.mean(R) - 1)*100 for R in returns2]\n",
        "return_volatilities2 = [np.std(R) for R in returns2]"
      ],
      "execution_count": 39,
      "outputs": []
    },
    {
      "cell_type": "markdown",
      "metadata": {
        "id": "tyT7krUdQkZh"
      },
      "source": [
        "Here we generate the remaining $N - 1$ securities that we want in our universe by adding random noise to $R_1$. This ensures that our $N - 1$ other assets will be correlated with the base asset because they have some underlying information that is shared.\n",
        "\n",
        "Let's plot what the mean return of each asset looks like:"
      ]
    },
    {
      "cell_type": "code",
      "metadata": {
        "scrolled": false,
        "colab": {
          "base_uri": "https://localhost:8080/",
          "height": 295
        },
        "id": "U6jNrHTcQkZh",
        "outputId": "7c3df224-9912-4440-a100-887626aa2427"
      },
      "source": [
        "plt.bar(np.arange(len(mean_returns)), mean_returns)\n",
        "plt.xlabel('Stock')\n",
        "plt.ylabel('Returns')\n",
        "plt.title('Returns for {0} Random Assets'.format(N));"
      ],
      "execution_count": 40,
      "outputs": [
        {
          "output_type": "display_data",
          "data": {
            "image/png": "[encoded data removed]",
            "text/plain": [
              "<Figure size 432x288 with 1 Axes>"
            ]
          },
          "metadata": {
            "tags": [],
            "needs_background": "light"
          }
        }
      ]
    },
    {
      "cell_type": "code",
      "metadata": {
        "scrolled": false,
        "colab": {
          "base_uri": "https://localhost:8080/",
          "height": 295
        },
        "id": "WJIFMD3GQkZi",
        "outputId": "e0aa82cb-3911-4de3-ea4b-d1ce19cbc14a"
      },
      "source": [
        "plt.bar(np.arange(len(mean_returns2)), mean_returns2)\n",
        "plt.xlabel('Stock')\n",
        "plt.ylabel('Returns')\n",
        "plt.title('Returns for {0} Random Assets'.format(N2));"
      ],
      "execution_count": 41,
      "outputs": [
        {
          "output_type": "display_data",
          "data": {
            "image/png": "[encoded data removed]",
            "text/plain": [
              "<Figure size 432x288 with 1 Axes>"
            ]
          },
          "metadata": {
            "tags": [],
            "needs_background": "light"
          }
        }
      ]
    },
    {
      "cell_type": "markdown",
      "metadata": {
        "id": "P5RLum8SQkZi"
      },
      "source": [
        "### Calculating Expected Return\n",
        "\n",
        "So we have a universe of stocks. Great! Now let's put them together in a portfolio and calculate its expected return and risk.\n",
        "\n",
        "We will start off by generating $N$ random weights for each asset in our portfolio."
      ]
    },
    {
      "cell_type": "code",
      "metadata": {
        "id": "590CsPdFQkZi"
      },
      "source": [
        "weights = np.random.uniform(0, 1, N)\n",
        "weights = weights/np.sum(weights)"
      ],
      "execution_count": 42,
      "outputs": []
    },
    {
      "cell_type": "code",
      "metadata": {
        "id": "MBQOIUXBQkZi"
      },
      "source": [
        "weights2 = np.random.uniform(0, 1, N2)\n",
        "weights2 = weights2/np.sum(weights2)"
      ],
      "execution_count": 43,
      "outputs": []
    },
    {
      "cell_type": "markdown",
      "metadata": {
        "id": "y86znqy8QkZj"
      },
      "source": [
        "We have to rescale the weights so that they all add up to $1$. We do this by scaling the weights vector by the sum total of all the weights. This step ensures that we will be using $100\\%$ of the portfolio's cash.\n",
        "\n",
        "To calculate the mean return of the portfolio, we have to scale each asset's return by its designated weight. We can pull each element of each array and multiply them individually, but it's quicker to use NumPy's linear algebra methods. The function that we want is `dot()`. This will calculate the dot product between two arrays for us. So if $v = \\left[ 1, 2, 3 \\right]$ and $w = \\left[4, 5, 6 \\right]$, then:\n",
        "\n",
        "$$ v \\cdot w = 1 \\times 4 + 2 \\times 5 + 3 \\times 6 $$\n",
        "\n",
        "For a one-dimensional vector, the dot product will multiply each element pointwise and add all the products together! In our case, we have a vector of weights, $\\omega = \\left[ \\omega_1, \\omega_2, \\dots \\omega_N\\right]$ and a vector of returns, $\\mu = \\left[ \\mu_1, \\mu_2, \\dots, \\mu_N\\right]$. If we take the dot product of these two we will get:\n",
        "\n",
        "$$ \\omega \\cdot \\mu = \\omega_1\\mu_1 + \\omega_2\\mu_2 + \\dots + \\omega_N\\mu_N = \\mu_P $$\n",
        "\n",
        "This yields the sum of all the asset returns scaled by their respective weights. This the the portfolio's overall expected return!"
      ]
    },
    {
      "cell_type": "code",
      "metadata": {
        "colab": {
          "base_uri": "https://localhost:8080/"
        },
        "id": "a9lAuzxvQkZj",
        "outputId": "1e1b11cb-199c-4da7-c265-7e7d146394e6"
      },
      "source": [
        "p_returns = np.dot(weights, mean_returns)\n",
        "print (\"Expected return of the portfolio: \", p_returns)"
      ],
      "execution_count": 44,
      "outputs": [
        {
          "output_type": "stream",
          "text": [
            "Expected return of the portfolio:  1.0205092915273206\n"
          ],
          "name": "stdout"
        }
      ]
    },
    {
      "cell_type": "code",
      "metadata": {
        "colab": {
          "base_uri": "https://localhost:8080/"
        },
        "id": "ncIioJVoQkZj",
        "outputId": "9b250af3-b200-42f6-8a5a-20052d67e379"
      },
      "source": [
        "p_returns2 = np.dot(weights2, mean_returns2)\n",
        "print (\"Expected return of the portfolio: \", p_returns2)"
      ],
      "execution_count": 45,
      "outputs": [
        {
          "output_type": "stream",
          "text": [
            "Expected return of the portfolio:  2.9070368846725265\n"
          ],
          "name": "stdout"
        }
      ]
    },
    {
      "cell_type": "markdown",
      "metadata": {
        "id": "6E9SI3jxQkZj"
      },
      "source": [
        "Calculating the mean return is fairly intuitive and does not require too much explanation of linear algebra. However, calculating the variance of our portfolio requires a bit more background."
      ]
    },
    {
      "cell_type": "markdown",
      "metadata": {
        "id": "DVz2SyDKQkZk"
      },
      "source": [
        "#### Beware of NaN values\n",
        "\n",
        "Most of the time, all of these calculations will work without an issue. However, when working with real data we run the risk of having `nan` values in our arrays. This is NumPy's way of saying that the data there is missing or doesn't exist. These `nan` values can lead to errors in mathematical calculations so it is important to be aware of whether your array contains `nan` values and to know how to drop them."
      ]
    },
    {
      "cell_type": "code",
      "metadata": {
        "colab": {
          "base_uri": "https://localhost:8080/"
        },
        "id": "b56istfdQkZk",
        "outputId": "baf399b4-37d9-4559-caec-e0d48bff4193"
      },
      "source": [
        "v = np.array([1, 2, np.nan, 4, 5])\n",
        "print (v)"
      ],
      "execution_count": 46,
      "outputs": [
        {
          "output_type": "stream",
          "text": [
            "[ 1.  2. nan  4.  5.]\n"
          ],
          "name": "stdout"
        }
      ]
    },
    {
      "cell_type": "code",
      "metadata": {
        "colab": {
          "base_uri": "https://localhost:8080/"
        },
        "id": "M9N7jZfSQkZk",
        "outputId": "775e419e-ee16-4e2f-ca35-c297ea97a259"
      },
      "source": [
        "v2 = np.array([51, 32, np.nan, 44, 34,np.nan, np.nan, 35])\n",
        "print (v2)"
      ],
      "execution_count": 47,
      "outputs": [
        {
          "output_type": "stream",
          "text": [
            "[51. 32. nan 44. 34. nan nan 35.]\n"
          ],
          "name": "stdout"
        }
      ]
    },
    {
      "cell_type": "markdown",
      "metadata": {
        "id": "GR7HBvrVQkZk"
      },
      "source": [
        "Let's see what happens when we try to take the mean of this array."
      ]
    },
    {
      "cell_type": "code",
      "metadata": {
        "colab": {
          "base_uri": "https://localhost:8080/"
        },
        "id": "7v7PaY3KQkZk",
        "outputId": "ce2c8eb3-bc41-4e17-af0f-d4a855f12b85"
      },
      "source": [
        "print (np.mean(v))"
      ],
      "execution_count": 48,
      "outputs": [
        {
          "output_type": "stream",
          "text": [
            "nan\n"
          ],
          "name": "stdout"
        }
      ]
    },
    {
      "cell_type": "code",
      "metadata": {
        "colab": {
          "base_uri": "https://localhost:8080/"
        },
        "id": "1lnvbt9ZQkZl",
        "outputId": "44c4e53d-b03c-4e32-f112-f28f93127778"
      },
      "source": [
        "print (np.mean(v))"
      ],
      "execution_count": 49,
      "outputs": [
        {
          "output_type": "stream",
          "text": [
            "nan\n"
          ],
          "name": "stdout"
        }
      ]
    },
    {
      "cell_type": "markdown",
      "metadata": {
        "id": "QAuCi0SEQkZl"
      },
      "source": [
        "Clearly, `nan` values can have a large impact on our calculations. Fortunately, we can check for `nan` values with the `isnan()` function."
      ]
    },
    {
      "cell_type": "code",
      "metadata": {
        "colab": {
          "base_uri": "https://localhost:8080/"
        },
        "id": "c9ywCKc4QkZl",
        "outputId": "a801651f-3dea-4e44-8e71-12d1978cbfd5"
      },
      "source": [
        "np.isnan(v)"
      ],
      "execution_count": 50,
      "outputs": [
        {
          "output_type": "execute_result",
          "data": {
            "text/plain": [
              "array([False, False,  True, False, False])"
            ]
          },
          "metadata": {
            "tags": []
          },
          "execution_count": 50
        }
      ]
    },
    {
      "cell_type": "code",
      "metadata": {
        "colab": {
          "base_uri": "https://localhost:8080/"
        },
        "id": "clzL8a57QkZm",
        "outputId": "02236e76-73bc-4e36-b9a7-e13e87dfa792"
      },
      "source": [
        "np.isnan(v2)"
      ],
      "execution_count": 51,
      "outputs": [
        {
          "output_type": "execute_result",
          "data": {
            "text/plain": [
              "array([False, False,  True, False, False,  True,  True, False])"
            ]
          },
          "metadata": {
            "tags": []
          },
          "execution_count": 51
        }
      ]
    },
    {
      "cell_type": "markdown",
      "metadata": {
        "id": "OfclIIVCQkZm"
      },
      "source": [
        "Calling `isnan()` on an array will call the function on each value of the array, returning a value of `True` if the element is `nan` and `False` if the element is valid. Now, knowing whether your array contains `nan` values is all well and good, but how do we remove `nan`s? Handily enough, NumPy arrays can be indexed by boolean values (`True` or `False`). If we use a boolean array to index an array, we will remove all values of the array that register as `False` under the condition. We use the `isnan()` function in create a boolean array, assigning a `True` value to everything that is *not* `nan` and a `False` to the `nan`s and we use that to index the same array."
      ]
    },
    {
      "cell_type": "code",
      "metadata": {
        "colab": {
          "base_uri": "https://localhost:8080/"
        },
        "id": "PCcBEDgyQkZm",
        "outputId": "10e2da09-e7f7-4679-d5e9-5f88b47d8f94"
      },
      "source": [
        "ix = ~np.isnan(v) # the ~ indicates a logical not, inverting the bools\n",
        "print (v[ix] )# We can also just write v = v[~np.isnan(v)]"
      ],
      "execution_count": 52,
      "outputs": [
        {
          "output_type": "stream",
          "text": [
            "[1. 2. 4. 5.]\n"
          ],
          "name": "stdout"
        }
      ]
    },
    {
      "cell_type": "code",
      "metadata": {
        "colab": {
          "base_uri": "https://localhost:8080/"
        },
        "id": "57zHXwLzQkZm",
        "outputId": "0fe9676b-ef90-4c8b-92b9-5a9eb5682615"
      },
      "source": [
        "ix2 = ~np.isnan(v2) \n",
        "print (v2[ix2] )"
      ],
      "execution_count": 53,
      "outputs": [
        {
          "output_type": "stream",
          "text": [
            "[51. 32. 44. 34. 35.]\n"
          ],
          "name": "stdout"
        }
      ]
    },
    {
      "cell_type": "code",
      "metadata": {
        "colab": {
          "base_uri": "https://localhost:8080/"
        },
        "id": "PvovPgIdQkZn",
        "outputId": "b8e2198a-4089-4421-fdea-fb59fc909bf0"
      },
      "source": [
        "print (np.mean(v[ix]))"
      ],
      "execution_count": 54,
      "outputs": [
        {
          "output_type": "stream",
          "text": [
            "3.0\n"
          ],
          "name": "stdout"
        }
      ]
    },
    {
      "cell_type": "code",
      "metadata": {
        "colab": {
          "base_uri": "https://localhost:8080/"
        },
        "id": "O9VfLU-VQkZn",
        "outputId": "376854e8-cefd-4d84-949b-f89ed6ae2118"
      },
      "source": [
        "print (np.mean(v2[ix2]))"
      ],
      "execution_count": 55,
      "outputs": [
        {
          "output_type": "stream",
          "text": [
            "39.2\n"
          ],
          "name": "stdout"
        }
      ]
    },
    {
      "cell_type": "markdown",
      "metadata": {
        "id": "hnS5GtltQkZo"
      },
      "source": [
        "There are a few shortcuts to this process in the form of NumPy functions specifically built to handle them, such as `nanmean()`."
      ]
    },
    {
      "cell_type": "code",
      "metadata": {
        "colab": {
          "base_uri": "https://localhost:8080/"
        },
        "id": "k67d8_0tQkZo",
        "outputId": "a5067005-3dd2-4934-ac5e-ea68740a6f30"
      },
      "source": [
        "print (np.nanmean(v))"
      ],
      "execution_count": 56,
      "outputs": [
        {
          "output_type": "stream",
          "text": [
            "3.0\n"
          ],
          "name": "stdout"
        }
      ]
    },
    {
      "cell_type": "code",
      "metadata": {
        "colab": {
          "base_uri": "https://localhost:8080/"
        },
        "id": "TMRuogNbQkZo",
        "outputId": "f565cfbe-b0fb-4b7c-f2c6-3a203a7c334f"
      },
      "source": [
        "print (np.nanmean(v2))"
      ],
      "execution_count": 57,
      "outputs": [
        {
          "output_type": "stream",
          "text": [
            "39.2\n"
          ],
          "name": "stdout"
        }
      ]
    },
    {
      "cell_type": "markdown",
      "metadata": {
        "id": "v6hwmr85QkZo"
      },
      "source": [
        "The `nanmean()` function simply calculates the mean of the array as if there were no `nan` values at all! There are a few more of these functions, so feel free to read more about them in the [documentation](https://docs.scipy.org/doc/numpy/user/index.html). These indeterminate values are more an issue with data than linear algebra itself so it is helpful that there are ways to handle them."
      ]
    },
    {
      "cell_type": "markdown",
      "metadata": {
        "id": "icHKRUVxQkZo"
      },
      "source": [
        "### Conclusion\n",
        "\n",
        "Linear algebra is pervasive in finance and in general. For example, the calculation of *optimal* weights according to modern portfolio theory is done using linear algebra techniques. The arrays and functions in NumPy allow us to handle these calculations in an intuitive way. For a quick intro to linear algebra and how to use NumPy to do more significant matrix calculations, proceed to the next section."
      ]
    },
    {
      "cell_type": "markdown",
      "metadata": {
        "id": "HlY8jAjcQkZp"
      },
      "source": [
        "## A brief foray into linear algebra\n",
        "\n",
        "Let's start with a basic overview of some linear algebra. Linear algebra comes down to the multiplication and composition of scalar and matrix values. A scalar value is just a real number that we multiply against an array. When we scale a matrix or array using a scalar, we multiply each individual element of that matrix or array by the scalar.\n",
        "\n",
        "A matrix is a collection of values, typically represented by an $m \\times n$ grid, where $m$ is the number of rows and $n$ is the number of columns. The edge lengths $m$ and $n$ do not necessarily have to be different. If we have $m = n$, we call this a square matrix. A particularly interesting case of a matrix is when $m = 1$ or $n = 1$. In this case we have a special case of a matrix that we call a vector. While there is a matrix object in NumPy we will be doing everything using NumPy arrays because they can have dimensions greater than $2$. For the purpose of this section, we will be using matrix and array interchangeably.\n",
        "\n",
        "We can express the matrix equation as:\n",
        "\n",
        "$$ y = A\\cdot x $$\n",
        "\n",
        "Where $A$ is an $m \\times n$ matrix, $y$ is a $m \\times 1$ vector, and $x$ is a $n \\times 1$ vector. On the right-hand side of the equation we are multiplying a matrix by a vector. This requires a little bit more clarification, lest we think that we can go about multiplying any matrices by any other matrices.\n",
        "\n",
        "#### Matrix multiplication\n",
        "\n",
        "With matrix multiplication, the order in which the matrices are multiplied matters. Multiplying a matrix on the left side by another matrix may be just fine, but multiplying on the right may be undefined."
      ]
    },
    {
      "cell_type": "code",
      "metadata": {
        "id": "lApEgjXJQkZp"
      },
      "source": [
        "A = np.array([\n",
        "        [1, 2, 3, 12, 6],\n",
        "        [4, 5, 6, 15, 20],\n",
        "        [7, 8, 9, 10, 10]        \n",
        "    ])\n",
        "B = np.array([\n",
        "        [4, 4, 2],\n",
        "        [2, 3, 1],\n",
        "        [6, 5, 8],\n",
        "        [9, 9, 9]\n",
        "    ])"
      ],
      "execution_count": 58,
      "outputs": []
    },
    {
      "cell_type": "code",
      "metadata": {
        "id": "_ROeAthGQkZp"
      },
      "source": [
        "A1= np.array([\n",
        "        [31, 12],\n",
        "        [4, 13],\n",
        "        [17, 8]        \n",
        "    ])\n",
        "B1= np.array([\n",
        "        [4,14, 12],\n",
        "        [2, 3, 1],\n",
        "        [16, 5, 18]\n",
        "    ])"
      ],
      "execution_count": 59,
      "outputs": []
    },
    {
      "cell_type": "markdown",
      "metadata": {
        "id": "YAEo7TH8QkZp"
      },
      "source": [
        "Notice that the above-defined matrices, $A$ and $B$, have different dimensions. $A$ is $3 \\times 5$ and $B$ is $4 \\times 3$. The general rule of what can and cannot be multiplied in which order is based on the dimensions of the matrices. Specifically, the number of columns in the matrix on the left must be equal to the number of rows in the matrix on the right. In super informal terms, let's say that we have an $m \\times n$ matrix and a $p \\times q$ matrix. If we multiply the first by the second on the right, we get the following:\n",
        "\n",
        "$$ (m \\times n) \\cdot (p \\times q) = (m \\times q) $$\n",
        "\n",
        "So the resultant product has the same number of rows as the left matrix and the same number of columns as the right matrix. This limitation of matrix multiplication with regards to dimensions is important to keep track of when writing code. To demonstrate this, we use the `dot()` function to multiply our matrices below:"
      ]
    },
    {
      "cell_type": "code",
      "metadata": {
        "colab": {
          "base_uri": "https://localhost:8080/"
        },
        "id": "JiIFqUgWQkZp",
        "outputId": "2bd71179-4ce6-49b4-b0f8-26554240f15b"
      },
      "source": [
        "print (\"np.dot(A, B) >> ValueError: shapes (3,5) and (4,3) not aligned: 5 (dim 1) != 4 (dim 0)\")"
      ],
      "execution_count": 60,
      "outputs": [
        {
          "output_type": "stream",
          "text": [
            "np.dot(A, B) >> ValueError: shapes (3,5) and (4,3) not aligned: 5 (dim 1) != 4 (dim 0)\n"
          ],
          "name": "stdout"
        }
      ]
    },
    {
      "cell_type": "code",
      "metadata": {
        "colab": {
          "base_uri": "https://localhost:8080/"
        },
        "id": "5YVP9wyPQkZp",
        "outputId": "d17601a2-f977-4a47-f6c2-c28f25afaecd"
      },
      "source": [
        "print (\"np.dot(A1, B1) >>>> ValueError: shapes (3,2) and (3,3) not aligned: 2 (dim 1) != 3 (dim 0)\")"
      ],
      "execution_count": 61,
      "outputs": [
        {
          "output_type": "stream",
          "text": [
            "np.dot(A1, B1) >>>> ValueError: shapes (3,2) and (3,3) not aligned: 2 (dim 1) != 3 (dim 0)\n"
          ],
          "name": "stdout"
        }
      ]
    },
    {
      "cell_type": "markdown",
      "metadata": {
        "id": "146VhIFMQkZq"
      },
      "source": [
        "These results make sense in accordance with our rule. Multiplying a $3 \\times 5$ matrix on the right by a $4 \\times 3$ matrix results in an error while multiplying a $4 \\times 3$ matrix on the right by a $3 \\times 5$ matrix results in a $4 \\times 5$ matrix."
      ]
    },
    {
      "cell_type": "code",
      "metadata": {
        "colab": {
          "base_uri": "https://localhost:8080/"
        },
        "id": "8fnVKb1hQkZq",
        "outputId": "5b070ce1-c629-44cd-883e-338e0080e392"
      },
      "source": [
        "print(np.dot(B, A))"
      ],
      "execution_count": 62,
      "outputs": [
        {
          "output_type": "stream",
          "text": [
            "[[ 34  44  54 128 124]\n",
            " [ 21  27  33  79  82]\n",
            " [ 82 101 120 227 216]\n",
            " [108 135 162 333 324]]\n"
          ],
          "name": "stdout"
        }
      ]
    },
    {
      "cell_type": "code",
      "metadata": {
        "colab": {
          "base_uri": "https://localhost:8080/"
        },
        "id": "3Kigq4EDQkZq",
        "outputId": "51795ed6-f18f-4a84-92b5-ffe44a562f53"
      },
      "source": [
        "print (np.dot(B1, A1))"
      ],
      "execution_count": 63,
      "outputs": [
        {
          "output_type": "stream",
          "text": [
            "[[384 326]\n",
            " [ 91  71]\n",
            " [822 401]]\n"
          ],
          "name": "stdout"
        }
      ]
    },
    {
      "cell_type": "markdown",
      "metadata": {
        "id": "dncLhSKHQkZq"
      },
      "source": [
        "### Portfolio Variance\n",
        "\n",
        "Let's return to our portfolio example from before. We calculated the expected return of the portfolio, but how do we calculate the variance? We start by trying to evaluate the portfolio as a sum of each individual asset, scaled by it's weight.\n",
        "\n",
        "$$ VAR[P] = VAR[\\omega_1 S_1 + \\omega_2 S_2 + \\cdots + \\omega_N S_N] $$\n",
        "\n",
        "Where $S_0, \\cdots, S_N$ are the assets contained within our universe. If all of our assets were independent of each other, we could simply evaluate this as\n",
        "\n",
        "$$ VAR[P] = VAR[\\omega_1 S_1] + VAR[\\omega_2 S_2] + \\cdots + VAR[\\omega_N S_N] = \\omega_1^2\\sigma_1^2 + \\omega_2^2\\sigma_2^2 + \\cdots + \\omega_N^2\\sigma_N^2 $$\n",
        "\n",
        "However, all of our assets depend on each other by their construction. They are all in some way related to our base asset and therefore each other. We thus have to calculate the variance of the portfolio by including the individual pairwise covariances of each asset. Our formula for the variance of the portfolio:\n",
        "\n",
        "$$ VAR[P] = \\sigma_P^2 = \\sum_i \\omega_i^2\\sigma_i^2 + \\sum_i\\sum_{i\\neq j} \\omega_i\\omega_j\\sigma_i\\sigma_j\\rho_{i, j}, \\ i, j \\in \\lbrace 1, 2, \\cdots, N \\rbrace $$\n",
        "\n",
        "Where $\\rho_{i,j}$ is the correlation between $S_i$ and $S_j$, $\\rho_{i, j} = \\frac{COV[S_i, S_j]}{\\sigma_i\\sigma_j}$. This seems exceedingly complicated, but we can easily handle all of this using NumPy arrays. First, we calculate the covariance matrix that relates all the individual stocks in our universe."
      ]
    },
    {
      "cell_type": "code",
      "metadata": {
        "colab": {
          "base_uri": "https://localhost:8080/"
        },
        "id": "Jxw1k9vtQkZq",
        "outputId": "a1f59fee-f188-446c-dbce-97bf76492fc1"
      },
      "source": [
        "cov_mat = np.cov(returns)\n",
        "print (cov_mat)"
      ],
      "execution_count": 64,
      "outputs": [
        {
          "output_type": "stream",
          "text": [
            "[[0.0012149  0.00120191 0.00118816 0.00137964 0.00118916 0.00107798\n",
            "  0.00120004 0.00128951 0.00118931 0.00123743]\n",
            " [0.00120191 0.00163065 0.00121504 0.00138663 0.00115838 0.00115549\n",
            "  0.00123806 0.00131011 0.00116393 0.00122647]\n",
            " [0.00118816 0.00121504 0.00157138 0.00142203 0.00116148 0.00103298\n",
            "  0.00112431 0.00114596 0.00112764 0.00122388]\n",
            " [0.00137964 0.00138663 0.00142203 0.00208275 0.00131026 0.00120233\n",
            "  0.00131828 0.00141697 0.00134716 0.00135121]\n",
            " [0.00118916 0.00115838 0.00116148 0.00131026 0.00150677 0.00105136\n",
            "  0.00120314 0.00124821 0.00115994 0.0012058 ]\n",
            " [0.00107798 0.00115549 0.00103298 0.00120233 0.00105136 0.00140305\n",
            "  0.00102072 0.00117792 0.00107901 0.00108092]\n",
            " [0.00120004 0.00123806 0.00112431 0.00131828 0.00120314 0.00102072\n",
            "  0.00154373 0.00128026 0.0012038  0.00128185]\n",
            " [0.00128951 0.00131011 0.00114596 0.00141697 0.00124821 0.00117792\n",
            "  0.00128026 0.0017576  0.00129569 0.00133848]\n",
            " [0.00118931 0.00116393 0.00112764 0.00134716 0.00115994 0.00107901\n",
            "  0.0012038  0.00129569 0.00158811 0.00120551]\n",
            " [0.00123743 0.00122647 0.00122388 0.00135121 0.0012058  0.00108092\n",
            "  0.00128185 0.00133848 0.00120551 0.00158354]]\n"
          ],
          "name": "stdout"
        }
      ]
    },
    {
      "cell_type": "code",
      "metadata": {
        "colab": {
          "base_uri": "https://localhost:8080/"
        },
        "id": "SzrFfxNTQkZr",
        "outputId": "7b307b82-03f9-48ed-a554-53810b63660c"
      },
      "source": [
        "cov_mat2 = np.cov(returns2)\n",
        "print (cov_mat2)"
      ],
      "execution_count": 65,
      "outputs": [
        {
          "output_type": "stream",
          "text": [
            "[[0.00159617 0.00154323 0.00170262 0.0016692  0.00162125 0.00165718\n",
            "  0.00159574 0.00158267 0.00162867 0.00148926 0.00166675 0.00157597\n",
            "  0.00154699 0.00159205 0.0015074  0.00160447 0.00148565 0.00162429\n",
            "  0.00141902 0.0015707  0.00154931 0.00156555 0.00150587 0.00152174\n",
            "  0.00170388 0.00153351 0.00160013 0.0015743  0.00160916 0.00172659]\n",
            " [0.00154323 0.00182355 0.00161708 0.00158561 0.00157145 0.00164154\n",
            "  0.00155825 0.0015291  0.00159538 0.00149199 0.00159448 0.00154015\n",
            "  0.00143508 0.00155163 0.00149715 0.00157706 0.0014137  0.00153638\n",
            "  0.00135969 0.00148593 0.00147467 0.00152591 0.00146879 0.00146797\n",
            "  0.00166147 0.00146317 0.00151351 0.00149127 0.00159063 0.00167092]\n",
            " [0.00170262 0.00161708 0.00214726 0.00178617 0.0016893  0.00170168\n",
            "  0.00171409 0.00167827 0.00174788 0.00156739 0.00181255 0.00170779\n",
            "  0.00166912 0.0016822  0.00155102 0.00169165 0.00156579 0.00176742\n",
            "  0.00152278 0.00166099 0.00165442 0.0016343  0.00164932 0.001635\n",
            "  0.00184183 0.00160621 0.0017133  0.00167386 0.00171439 0.0018626 ]\n",
            " [0.0016692  0.00158561 0.00178617 0.0021149  0.00168825 0.00173762\n",
            "  0.00165468 0.00159347 0.00169378 0.00157812 0.00173945 0.00170129\n",
            "  0.00160001 0.00166365 0.00153855 0.0016774  0.00157429 0.00171655\n",
            "  0.0014924  0.0016472  0.00163977 0.00168685 0.0015755  0.00156223\n",
            "  0.00183955 0.0016803  0.00171781 0.00161768 0.00167882 0.00182763]\n",
            " [0.00162125 0.00157145 0.0016893  0.00168825 0.00198496 0.00169866\n",
            "  0.00158989 0.00162654 0.00164401 0.00153433 0.00165071 0.00164345\n",
            "  0.00155996 0.00161402 0.00155815 0.0015779  0.00148542 0.0016406\n",
            "  0.00143459 0.00163393 0.00154984 0.0015861  0.0015854  0.00152253\n",
            "  0.00176933 0.00159585 0.00159185 0.00160041 0.00163145 0.00172398]\n",
            " [0.00165718 0.00164154 0.00170168 0.00173762 0.00169866 0.00213692\n",
            "  0.0016014  0.00163125 0.00171128 0.00159501 0.00170775 0.0016599\n",
            "  0.00164165 0.00162332 0.00159414 0.00166536 0.00157907 0.0016964\n",
            "  0.00144222 0.00161982 0.00156901 0.00165032 0.00155957 0.00159592\n",
            "  0.0017624  0.00158748 0.00165915 0.00168223 0.00164493 0.00177936]\n",
            " [0.00159574 0.00155825 0.00171409 0.00165468 0.00158989 0.0016014\n",
            "  0.00194144 0.00155431 0.00163716 0.00146552 0.00164469 0.00156557\n",
            "  0.0014958  0.00164013 0.001512   0.00163844 0.00146979 0.00160761\n",
            "  0.00140827 0.00152262 0.00155716 0.00154268 0.00144884 0.00149001\n",
            "  0.00167296 0.00152451 0.00159619 0.00159501 0.0015804  0.00169569]\n",
            " [0.00158267 0.0015291  0.00167827 0.00159347 0.00162654 0.00163125\n",
            "  0.00155431 0.00201426 0.00162408 0.00140748 0.0016219  0.0015339\n",
            "  0.00156602 0.00159368 0.00149674 0.00160243 0.00142361 0.00163526\n",
            "  0.00136864 0.0015675  0.00147732 0.00153995 0.00153163 0.0015039\n",
            "  0.00168064 0.00153522 0.00157863 0.00156443 0.00160989 0.00171581]\n",
            " [0.00162867 0.00159538 0.00174788 0.00169378 0.00164401 0.00171128\n",
            "  0.00163716 0.00162408 0.00207831 0.00152588 0.00170045 0.00166159\n",
            "  0.00158491 0.00160474 0.00152013 0.00165564 0.00157374 0.00170026\n",
            "  0.00144154 0.00159436 0.00151752 0.00153784 0.00155841 0.00156842\n",
            "  0.00174224 0.00153779 0.00163537 0.00155741 0.0015818  0.00180841]\n",
            " [0.00148926 0.00149199 0.00156739 0.00157812 0.00153433 0.00159501\n",
            "  0.00146552 0.00140748 0.00152588 0.00176299 0.00156973 0.00147803\n",
            "  0.00146615 0.00149618 0.00144559 0.0014796  0.00140529 0.00149735\n",
            "  0.0013121  0.00145425 0.00144409 0.00143845 0.00138459 0.00143002\n",
            "  0.00157666 0.00139583 0.00145443 0.00149104 0.00150023 0.00164149]\n",
            " [0.00166675 0.00159448 0.00181255 0.00173945 0.00165071 0.00170775\n",
            "  0.00164469 0.0016219  0.00170045 0.00156973 0.00210167 0.00161591\n",
            "  0.00160911 0.0016843  0.0015824  0.00167697 0.00153253 0.00168778\n",
            "  0.00151071 0.00159032 0.00163522 0.00165811 0.00158905 0.00155695\n",
            "  0.00178102 0.0015776  0.00161128 0.00163338 0.00171995 0.00176052]\n",
            " [0.00157597 0.00154015 0.00170779 0.00170129 0.00164345 0.0016599\n",
            "  0.00156557 0.0015339  0.00166159 0.00147803 0.00161591 0.00189225\n",
            "  0.00152961 0.00154799 0.0015092  0.00154718 0.00144243 0.00163706\n",
            "  0.0014343  0.00157396 0.00151349 0.00155906 0.00151385 0.00151141\n",
            "  0.00170951 0.00152525 0.00154639 0.00155787 0.00157625 0.00173371]\n",
            " [0.00154699 0.00143508 0.00166912 0.00160001 0.00155996 0.00164165\n",
            "  0.0014958  0.00156602 0.00158491 0.00146615 0.00160911 0.00152961\n",
            "  0.00191395 0.00153861 0.00148638 0.00157544 0.00142428 0.00153116\n",
            "  0.00133552 0.00156351 0.00150573 0.00150445 0.00145785 0.00151085\n",
            "  0.00164691 0.00153673 0.00151465 0.00152965 0.00157207 0.00170087]\n",
            " [0.00159205 0.00155163 0.0016822  0.00166365 0.00161402 0.00162332\n",
            "  0.00164013 0.00159368 0.00160474 0.00149618 0.0016843  0.00154799\n",
            "  0.00153861 0.00193986 0.00150899 0.00162891 0.00148135 0.00156575\n",
            "  0.00137575 0.00157031 0.00154461 0.00156224 0.00148681 0.00148096\n",
            "  0.00168372 0.00156018 0.0016186  0.00153916 0.00158048 0.00172734]\n",
            " [0.0015074  0.00149715 0.00155102 0.00153855 0.00155815 0.00159414\n",
            "  0.001512   0.00149674 0.00152013 0.00144559 0.0015824  0.0015092\n",
            "  0.00148638 0.00150899 0.00186289 0.00153692 0.00133856 0.0014906\n",
            "  0.00134987 0.00149953 0.00143812 0.00143208 0.00139512 0.0014027\n",
            "  0.00161978 0.00146024 0.00152048 0.00150116 0.00151074 0.00158632]\n",
            " [0.00160447 0.00157706 0.00169165 0.0016774  0.0015779  0.00166536\n",
            "  0.00163844 0.00160243 0.00165564 0.0014796  0.00167697 0.00154718\n",
            "  0.00157544 0.00162891 0.00153692 0.00205308 0.00148273 0.00165279\n",
            "  0.00142553 0.00154185 0.00156188 0.00154664 0.00148388 0.00157183\n",
            "  0.00172261 0.00150001 0.00165348 0.00162578 0.00165497 0.00168799]\n",
            " [0.00148565 0.0014137  0.00156579 0.00157429 0.00148542 0.00157907\n",
            "  0.00146979 0.00142361 0.00157374 0.00140529 0.00153253 0.00144243\n",
            "  0.00142428 0.00148135 0.00133856 0.00148273 0.00170778 0.00151633\n",
            "  0.00135098 0.00145677 0.00140943 0.00149094 0.00136823 0.00142712\n",
            "  0.0016295  0.00143076 0.00152785 0.00146808 0.00145227 0.0016448 ]\n",
            " [0.00162429 0.00153638 0.00176742 0.00171655 0.0016406  0.0016964\n",
            "  0.00160761 0.00163526 0.00170026 0.00149735 0.00168778 0.00163706\n",
            "  0.00153116 0.00156575 0.0014906  0.00165279 0.00151633 0.00198135\n",
            "  0.00143966 0.00162654 0.00160541 0.00161236 0.00153171 0.001544\n",
            "  0.00172153 0.00153455 0.00165975 0.00161073 0.00166847 0.00173556]\n",
            " [0.00141902 0.00135969 0.00152278 0.0014924  0.00143459 0.00144222\n",
            "  0.00140827 0.00136864 0.00144154 0.0013121  0.00151071 0.0014343\n",
            "  0.00133552 0.00137575 0.00134987 0.00142553 0.00135098 0.00143966\n",
            "  0.00156366 0.00138519 0.00137501 0.0013812  0.0012943  0.00136135\n",
            "  0.0015194  0.00137593 0.00148248 0.00141124 0.00139487 0.00157195]\n",
            " [0.0015707  0.00148593 0.00166099 0.0016472  0.00163393 0.00161982\n",
            "  0.00152262 0.0015675  0.00159436 0.00145425 0.00159032 0.00157396\n",
            "  0.00156351 0.00157031 0.00149953 0.00154185 0.00145677 0.00162654\n",
            "  0.00138519 0.00198708 0.00150442 0.00157242 0.00144589 0.0015\n",
            "  0.00162198 0.00153633 0.00154685 0.00149816 0.00154475 0.00161126]\n",
            " [0.00154931 0.00147467 0.00165442 0.00163977 0.00154984 0.00156901\n",
            "  0.00155716 0.00147732 0.00151752 0.00144409 0.00163522 0.00151349\n",
            "  0.00150573 0.00154461 0.00143812 0.00156188 0.00140943 0.00160541\n",
            "  0.00137501 0.00150442 0.00185394 0.00148723 0.00148814 0.001502\n",
            "  0.00168061 0.00149413 0.00150549 0.00156447 0.00160303 0.00164268]\n",
            " [0.00156555 0.00152591 0.0016343  0.00168685 0.0015861  0.00165032\n",
            "  0.00154268 0.00153995 0.00153784 0.00143845 0.00165811 0.00155906\n",
            "  0.00150445 0.00156224 0.00143208 0.00154664 0.00149094 0.00161236\n",
            "  0.0013812  0.00157242 0.00148723 0.00192848 0.00153238 0.00150934\n",
            "  0.00161176 0.00153023 0.00154936 0.00149258 0.00160067 0.00163262]\n",
            " [0.00150587 0.00146879 0.00164932 0.0015755  0.0015854  0.00155957\n",
            "  0.00144884 0.00153163 0.00155841 0.00138459 0.00158905 0.00151385\n",
            "  0.00145785 0.00148681 0.00139512 0.00148388 0.00136823 0.00153171\n",
            "  0.0012943  0.00144589 0.00148814 0.00153238 0.00183945 0.00142937\n",
            "  0.0016445  0.0013886  0.00155912 0.00149564 0.00152152 0.00166532]\n",
            " [0.00152174 0.00146797 0.001635   0.00156223 0.00152253 0.00159592\n",
            "  0.00149001 0.0015039  0.00156842 0.00143002 0.00155695 0.00151141\n",
            "  0.00151085 0.00148096 0.0014027  0.00157183 0.00142712 0.001544\n",
            "  0.00136135 0.0015     0.001502   0.00150934 0.00142937 0.0017789\n",
            "  0.00161564 0.00148625 0.00156949 0.00153388 0.00157879 0.00166222]\n",
            " [0.00170388 0.00166147 0.00184183 0.00183955 0.00176933 0.0017624\n",
            "  0.00167296 0.00168064 0.00174224 0.00157666 0.00178102 0.00170951\n",
            "  0.00164691 0.00168372 0.00161978 0.00172261 0.0016295  0.00172153\n",
            "  0.0015194  0.00162198 0.00168061 0.00161176 0.0016445  0.00161564\n",
            "  0.00220794 0.00164732 0.00172734 0.00173699 0.00172149 0.00184972]\n",
            " [0.00153351 0.00146317 0.00160621 0.0016803  0.00159585 0.00158748\n",
            "  0.00152451 0.00153522 0.00153779 0.00139583 0.0015776  0.00152525\n",
            "  0.00153673 0.00156018 0.00146024 0.00150001 0.00143076 0.00153455\n",
            "  0.00137593 0.00153633 0.00149413 0.00153023 0.0013886  0.00148625\n",
            "  0.00164732 0.00187096 0.00156198 0.00148998 0.00151816 0.00169829]\n",
            " [0.00160013 0.00151351 0.0017133  0.00171781 0.00159185 0.00165915\n",
            "  0.00159619 0.00157863 0.00163537 0.00145443 0.00161128 0.00154639\n",
            "  0.00151465 0.0016186  0.00152048 0.00165348 0.00152785 0.00165975\n",
            "  0.00148248 0.00154685 0.00150549 0.00154936 0.00155912 0.00156949\n",
            "  0.00172734 0.00156198 0.00203425 0.00163169 0.00156187 0.00170176]\n",
            " [0.0015743  0.00149127 0.00167386 0.00161768 0.00160041 0.00168223\n",
            "  0.00159501 0.00156443 0.00155741 0.00149104 0.00163338 0.00155787\n",
            "  0.00152965 0.00153916 0.00150116 0.00162578 0.00146808 0.00161073\n",
            "  0.00141124 0.00149816 0.00156447 0.00149258 0.00149564 0.00153388\n",
            "  0.00173699 0.00148998 0.00163169 0.00189603 0.00157856 0.00166015]\n",
            " [0.00160916 0.00159063 0.00171439 0.00167882 0.00163145 0.00164493\n",
            "  0.0015804  0.00160989 0.0015818  0.00150023 0.00171995 0.00157625\n",
            "  0.00157207 0.00158048 0.00151074 0.00165497 0.00145227 0.00166847\n",
            "  0.00139487 0.00154475 0.00160303 0.00160067 0.00152152 0.00157879\n",
            "  0.00172149 0.00151816 0.00156187 0.00157856 0.00197908 0.00177379]\n",
            " [0.00172659 0.00167092 0.0018626  0.00182763 0.00172398 0.00177936\n",
            "  0.00169569 0.00171581 0.00180841 0.00164149 0.00176052 0.00173371\n",
            "  0.00170087 0.00172734 0.00158632 0.00168799 0.0016448  0.00173556\n",
            "  0.00157195 0.00161126 0.00164268 0.00163262 0.00166532 0.00166222\n",
            "  0.00184972 0.00169829 0.00170176 0.00166015 0.00177379 0.00237228]]\n"
          ],
          "name": "stdout"
        }
      ]
    },
    {
      "cell_type": "markdown",
      "metadata": {
        "id": "fYCto_wiQkZr"
      },
      "source": [
        "This array is not formatted particularly nicely, but a covariance matrix is a very important concept. The covariance matrix is of the form:\n",
        "\n",
        "$$ \\left[\\begin{matrix}\n",
        "VAR[S_1] & COV[S_1, S_2] & \\cdots & COV[S_1, S_N] \\\\\n",
        "COV[S_2, S_1] & VAR[S_2] & \\cdots & COV[S_2, S_N] \\\\\n",
        "\\vdots & \\vdots & \\ddots & \\vdots \\\\\n",
        "COV[S_N, S_1] & COV[S_N, S_2] & \\cdots & VAR[S_N]\n",
        "\\end{matrix}\\right] $$\n",
        "\n",
        "So each diagonal entry is the variance of that asset at that index and each off-diagonal holds the covariance of two assets indexed by the column and row number. What is important is that once we have the covariance matrix we are able to do some very quick linear algebra to calculate the variance of the overall portfolio. We can represent the variance of the portfolio in array form as:\n",
        "\n",
        "$$ \\sigma_p^2 = \\omega \\ C \\ \\omega^\\intercal$$\n",
        "\n",
        "Where $C$ is the covariance matrix of all the assets and $\\omega$ is the array containing the weights of each individual asset. The superscript $\\intercal$ on the second $\\omega$ listed above denotes the **transpose** of $\\omega$. For a reference on the evaluation of the variance of a portfolio as a matrix equation, please see the Wikipedia article on [modern portfolio theory](https://en.wikipedia.org/wiki/Modern_portfolio_theory).\n",
        "\n",
        "The transpose of an array is what you get when you switch the rows and columns of an array. This has the effect of reflecting an array across what you might imagine as a diagonal. For example, take our array $A$ from before:"
      ]
    },
    {
      "cell_type": "code",
      "metadata": {
        "colab": {
          "base_uri": "https://localhost:8080/"
        },
        "id": "lPCJWbewQkZr",
        "outputId": "9011677e-9063-4885-9a6b-969439a15a03"
      },
      "source": [
        "print (A)"
      ],
      "execution_count": 66,
      "outputs": [
        {
          "output_type": "stream",
          "text": [
            "[[ 1  2  3 12  6]\n",
            " [ 4  5  6 15 20]\n",
            " [ 7  8  9 10 10]]\n"
          ],
          "name": "stdout"
        }
      ]
    },
    {
      "cell_type": "code",
      "metadata": {
        "colab": {
          "base_uri": "https://localhost:8080/"
        },
        "id": "kCkSiI_4QkZr",
        "outputId": "acb9b8dd-6265-4792-b940-abebaea0cfe4"
      },
      "source": [
        "print (A1)"
      ],
      "execution_count": 67,
      "outputs": [
        {
          "output_type": "stream",
          "text": [
            "[[31 12]\n",
            " [ 4 13]\n",
            " [17  8]]\n"
          ],
          "name": "stdout"
        }
      ]
    },
    {
      "cell_type": "markdown",
      "metadata": {
        "id": "k01t-VTYQkZr"
      },
      "source": [
        "The transpose looks like a mirror image of the same array."
      ]
    },
    {
      "cell_type": "code",
      "metadata": {
        "colab": {
          "base_uri": "https://localhost:8080/"
        },
        "id": "35zRqV84QkZs",
        "outputId": "75882b69-c657-4662-b069-83a0c4ff9f98"
      },
      "source": [
        "print (np.transpose(A))"
      ],
      "execution_count": 68,
      "outputs": [
        {
          "output_type": "stream",
          "text": [
            "[[ 1  4  7]\n",
            " [ 2  5  8]\n",
            " [ 3  6  9]\n",
            " [12 15 10]\n",
            " [ 6 20 10]]\n"
          ],
          "name": "stdout"
        }
      ]
    },
    {
      "cell_type": "code",
      "metadata": {
        "colab": {
          "base_uri": "https://localhost:8080/"
        },
        "id": "iX3E6cwSQkZs",
        "outputId": "8bc5657f-badb-4fed-8b5d-a49027697d6e"
      },
      "source": [
        "print (np.transpose(A1))"
      ],
      "execution_count": 69,
      "outputs": [
        {
          "output_type": "stream",
          "text": [
            "[[31  4 17]\n",
            " [12 13  8]]\n"
          ],
          "name": "stdout"
        }
      ]
    },
    {
      "cell_type": "markdown",
      "metadata": {
        "id": "MmcBlbleQkZs"
      },
      "source": [
        "But $\\omega$ here is a 1-dimensional array, a vector! It makes perfect to take the transpose of $A$, a $3 \\times 5$ array, as the output will be a $5 \\times 3$ array, but a 1-dimensional array is not quite as intuitive. A typical 1-dimensional array can be thought of as a $1 \\times n$ horizontal vector. Thus, taking the tranpose of this array essentially means changing it into a $n \\times 1$ vertical vector. This makes sense because 1-dimensional arrays are still arrays and any multiplication done between 1-dimensional and higher dimensional arrays must keep in line with our dimensionality issue of matrix multiplication.\n",
        "\n",
        "To make a long story short, we think of $\\omega$ as $1 \\times N$ since we have $N$ securities. This makes it so that $\\omega^\\intercal$ is $N \\times 1$. Again, our covariance matrix is $N \\times N$. So the overall multiplication works out like so, in informal terms:\n",
        "\n",
        "$$ \\text{Dimensions}(\\sigma_p^2) = \\text{Dimensions}(\\omega C \\omega^\\intercal) = (1 \\times N)\\cdot (N \\times N)\\cdot (N \\times 1) = (1 \\times 1)$$\n",
        "\n",
        "Multiplying the covariance matrix on the left by the plain horizontal vector and on the right by that vector's transpose results in the calculation of a single scalar ($1 \\times 1$) value, our portfolio's variance.\n",
        "\n",
        "So knowing this, let's proceed and calculate the portfolio variance! We can easily calculate the product of these arrays by using `dot()` for matrix multiplication, though this time we have to do it twice."
      ]
    },
    {
      "cell_type": "code",
      "metadata": {
        "scrolled": false,
        "colab": {
          "base_uri": "https://localhost:8080/"
        },
        "id": "fh8v-JmhQkZs",
        "outputId": "094e7e10-979e-4e4a-c3ae-d7dfbb9fd4ff"
      },
      "source": [
        "# Calculating the portfolio volatility\n",
        "var_p = np.dot(np.dot(weights, cov_mat), weights.T)\n",
        "vol_p = np.sqrt(var_p)\n",
        "print (\"Portfolio volatility: \", vol_p)"
      ],
      "execution_count": 70,
      "outputs": [
        {
          "output_type": "stream",
          "text": [
            "Portfolio volatility:  0.03560703848512429\n"
          ],
          "name": "stdout"
        }
      ]
    },
    {
      "cell_type": "code",
      "metadata": {
        "scrolled": false,
        "colab": {
          "base_uri": "https://localhost:8080/"
        },
        "id": "4axQOPPHQkZs",
        "outputId": "f83d4f60-fcc1-4925-9b14-148652d8b21c"
      },
      "source": [
        "# Calculating the portfolio volatility\n",
        "var_p_2= np.dot(np.dot(weights2, cov_mat2), weights2.T)\n",
        "vol_p_2 = np.sqrt(var_p_2)\n",
        "print (\"Portfolio volatility: \", vol_p_2)"
      ],
      "execution_count": 71,
      "outputs": [
        {
          "output_type": "stream",
          "text": [
            "Portfolio volatility:  0.0399079853619043\n"
          ],
          "name": "stdout"
        }
      ]
    },
    {
      "cell_type": "markdown",
      "metadata": {
        "id": "313p0GT1QkZt"
      },
      "source": [
        "To confirm this calculation, let's simply evaluate the volatility of the portfolio using only NumPy functions."
      ]
    },
    {
      "cell_type": "code",
      "metadata": {
        "colab": {
          "base_uri": "https://localhost:8080/"
        },
        "id": "LhoQkW6tQkZt",
        "outputId": "5dae1f3b-2310-4e27-e5b9-283bb2e2b3b0"
      },
      "source": [
        "# Confirming calculation\n",
        "vol_p_alt = np.sqrt(np.var(np.dot(weights, returns), ddof=1))\n",
        "print (\"Portfolio volatility: \", vol_p_alt)"
      ],
      "execution_count": 72,
      "outputs": [
        {
          "output_type": "stream",
          "text": [
            "Portfolio volatility:  0.035607038485124275\n"
          ],
          "name": "stdout"
        }
      ]
    },
    {
      "cell_type": "code",
      "metadata": {
        "colab": {
          "base_uri": "https://localhost:8080/"
        },
        "id": "eQvkAeh8QkZt",
        "outputId": "47f1da5f-5df0-47ca-f014-8e0883607d78"
      },
      "source": [
        "# Confirming calculation\n",
        "vol_p_alt_2 = np.sqrt(np.var(np.dot(weights2, returns2), ddof=1))\n",
        "print (\"Portfolio volatility: \", vol_p_alt_2)"
      ],
      "execution_count": 73,
      "outputs": [
        {
          "output_type": "stream",
          "text": [
            "Portfolio volatility:  0.0399079853619043\n"
          ],
          "name": "stdout"
        }
      ]
    },
    {
      "cell_type": "markdown",
      "metadata": {
        "id": "Ti0EFFIBQkZt"
      },
      "source": [
        "The `ddof` parameter is a simple integer input that tells the function the number of degrees of freedom to take into account. This is a more statistical concept, but what this tells us that our matrix calculation is correct!\n",
        "\n",
        "A lot of this might not make sense at first glance. It helps to go back and forth between the theory and the code representations until you have a better grasp of the mathematics involved. It is definitely not necessary to be an expert on linear algebra and on matrix operations, but linear algebra can help to streamline the process of working with large amounts of data. For further reading on NumPy, check out the [documentation](https://docs.scipy.org/doc/numpy/user/index.html)."
      ]
    },
    {
      "cell_type": "markdown",
      "metadata": {
        "id": "3aiXdHfsQkZt"
      },
      "source": [
        "*This presentation is for informational purposes only and does not constitute an offer to sell, a solicitation to buy, or a recommendation for any security; nor does it constitute an offer to provide investment advisory or other services by Quantopian, Inc. (\"Quantopian\"). Nothing contained herein constitutes investment advice or offers any opinion with respect to the suitability of any security, and any views expressed herein should not be taken as advice to buy, sell, or hold any security or as an endorsement of any security or company.  In preparing the information contained herein, Quantopian, Inc. has not taken into account the investment needs, objectives, and financial circumstances of any particular investor. Any views expressed and data illustrated herein were prepared based upon information, believed to be reliable, available to Quantopian, Inc. at the time of publication. Quantopian makes no guarantees as to their accuracy or completeness. All information is subject to change and may quickly become unreliable for various reasons, including changes in market conditions or economic circumstances.*"
      ]
    }
  ]
}